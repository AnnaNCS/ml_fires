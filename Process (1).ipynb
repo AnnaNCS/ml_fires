{
  "nbformat": 4,
  "nbformat_minor": 0,
  "metadata": {
    "colab": {
      "provenance": [],
      "toc_visible": true
    },
    "kernelspec": {
      "name": "python3",
      "display_name": "Python 3"
    },
    "language_info": {
      "name": "python"
    },
    "accelerator": "GPU",
    "gpuClass": "standard"
  },
  "cells": [
    {
      "cell_type": "code",
      "source": [],
      "metadata": {
        "id": "ix4eEtQo6Y_B"
      },
      "execution_count": null,
      "outputs": []
    },
    {
      "cell_type": "markdown",
      "source": [
        "#Import"
      ],
      "metadata": {
        "id": "SZPYnpomCgqk"
      }
    },
    {
      "cell_type": "code",
      "source": [
        "#!pip install rioxarray\n",
        "#only need to run the line above once\n",
        "\n",
        "import os\n",
        "import numpy as np\n",
        "import xarray as xr\n",
        "import pandas as pd\n",
        "import rioxarray as rio\n",
        "import matplotlib.pyplot as plt\n",
        "from glob import glob\n",
        "\n",
        "#connect the google drive to download and upload data\n",
        "from google.colab import drive\n",
        "drive.mount('/content/drive')\n",
        "#set the path to the drive data folder\n",
        "directory = '/content/drive/MyDrive/MLFall2022/CurrentProject/data/'"
      ],
      "metadata": {
        "colab": {
          "base_uri": "https://localhost:8080/"
        },
        "id": "X9F_5Kvt8AD-",
        "outputId": "0e6eb3e1-ee3f-4e5c-d453-42d9182fd7f5"
      },
      "execution_count": 28,
      "outputs": [
        {
          "output_type": "stream",
          "name": "stdout",
          "text": [
            "Drive already mounted at /content/drive; to attempt to forcibly remount, call drive.mount(\"/content/drive\", force_remount=True).\n"
          ]
        }
      ]
    },
    {
      "cell_type": "code",
      "execution_count": 31,
      "metadata": {
        "id": "bdOO_KAmW1Wm"
      },
      "outputs": [],
      "source": [
        "#download the data \n",
        "#all of our data contains NaN which we will remove later on in the formatting\n",
        "ecoregion_data = xr.open_dataset(directory + 'epa_level2.nc')\n",
        "forest_type_data = xr.open_dataset(directory + 'forest_type_frac.nc')\n",
        "burnarea_data = xr.open_dataset(directory + 'burnarea_combined.nc')\n",
        "\n",
        "burnarea_data = burnarea_data.rio.set_spatial_dims(x_dim='X', y_dim='Y', inplace=True)\n",
        "#set the working timeframe, based on the available data\n",
        "firsttime = \"1984-01-15\"\n",
        "finaltime = \"2019-12-15\"\n",
        "#important to cut to the dataframe #check with print(burnarea.time)\n",
        "burnarea = burnarea_data.burnarea.loc[firsttime:finaltime]\n",
        "#to see the data in an easy format\n",
        "#dfba = burnarea.to_dataframe().dropna()\n",
        "#burnarea_data\n"
      ]
    },
    {
      "cell_type": "code",
      "source": [
        "#import additional data \n",
        "ea = xr.open_dataset(directory + 'ea.nc')\n",
        "es = xr.open_dataset(directory + 'es.nc')\n",
        "rh = xr.open_dataset(directory + 'rh.nc') \n",
        "tmax = xr.open_dataset(directory + 'tmax.nc') \n",
        "prec = xr.open_dataset(directory + 'prec.nc') \n",
        "wind = xr.open_dataset(directory + 'wind.nc') \n",
        "elevstd = xr.open_dataset(directory + 'elevstd.nc') \n",
        "wui_distance = xr.open_dataset(directory + 'wui_distance.nc')\n",
        "\n",
        "#cut the data to the dataframe\n",
        "vpd = es.es.loc[firsttime:finaltime] - ea.ea.loc[firsttime:finaltime]\n",
        "rh = rh.rh.loc[firsttime:finaltime]\n",
        "tmax = tmax.tmax.loc[firsttime:finaltime]\n",
        "prec = prec.prec.loc[firsttime:finaltime]\n",
        "wind = wind.wind.loc[firsttime:finaltime]"
      ],
      "metadata": {
        "id": "6uY_OWok9qwC"
      },
      "execution_count": 30,
      "outputs": []
    },
    {
      "cell_type": "markdown",
      "source": [
        "#Formatting"
      ],
      "metadata": {
        "id": "9MbII1rECqVj"
      }
    },
    {
      "cell_type": "code",
      "source": [
        "# add up the forest percentages for each forest type \n",
        "forest = forest_type_data.sum(dim='ftype').forest_type_frac\n",
        "burnarea = burnarea*forest.values \n",
        "\n",
        "#set data variables\n",
        "time = burnarea.time\n",
        "epa_l2 = ecoregion_data.epa_level2\n",
        "province = epa_l2.province\n",
        "\n",
        "#update the data\n",
        "for thisregion in province: \n",
        "  tmpavg = (vpd*epa_l2[thisregion]).sum(dim=['Y','X','time']) / (epa_l2[thisregion].sum()*len(time))\n",
        "  vpd_z = vpd*epa_l2[thisregion] - tmpavg\n",
        "  tmpavg = (rh*epa_l2[thisregion]).sum(dim=['Y','X','time']) / (epa_l2[thisregion].sum()*len(time))\n",
        "  rh_z = rh*epa_l2[thisregion] - tmpavg\n",
        "  tmpavg = (tmax*epa_l2[thisregion]).sum(dim=['Y','X','time']) / (epa_l2[thisregion].sum()*len(time))\n",
        "  tmax_z = tmax*epa_l2[thisregion] - tmpavg\n",
        "  tmpavg = (prec*epa_l2[thisregion]).sum(dim=['Y','X','time']) / (epa_l2[thisregion].sum()*len(time))\n",
        "  prec_z = tmax*epa_l2[thisregion] - tmpavg\n",
        "\n",
        "# convert wui distance into variable for all years\n",
        "firstyear = pd.DatetimeIndex(burnarea.time.values).year.min()\n",
        "finalyear = pd.DatetimeIndex(burnarea.time.values).year.max()\n",
        "years = np.arange(firstyear, finalyear+1, 1)\n",
        "# interpolate to fill in years\n",
        "wui_distance_new = wui_distance.wui_distance.interp(year=years) "
      ],
      "metadata": {
        "id": "y--BDbotK8EC"
      },
      "execution_count": 32,
      "outputs": []
    },
    {
      "cell_type": "code",
      "source": [
        "maskUS = ~np.isnan(burnarea.isel(time=0))"
      ],
      "metadata": {
        "id": "DD9GchuBT-N-"
      },
      "execution_count": 33,
      "outputs": []
    },
    {
      "cell_type": "code",
      "source": [
        "#show burned area in the years 2015, 2017, and 2020 (‘Wildfires and Climate Change’, 2022)\n",
        "#time2017 = burnarea.time[396:409] #2017-01-15 to 2018-01-15\n",
        "\n",
        "#turns all data burnarea to false, in order to have the graph as one whole surface, \n",
        "#without the distinction between the land and ocean\n",
        "#makes the graph much more clear \n",
        "burnyes_month = (burnarea > 0)\n",
        "\n",
        "index = 1\n",
        "#in order to plot all wanted months, we need to get rid of the NaN values\n",
        "#since we are working with 3d array for now we will just skip them \n",
        "#NaNs are shown as a single color filled graph\n",
        "for month in burnyes_month.time[396:409]:\n",
        "  if (burnyes_month.sel(time=month).any() == False):\n",
        "    continue \n",
        "  fig, ax = plt.subplots()\n",
        "  this = ax.imshow(burnyes_month.sel(time=month))\n",
        "  fig.colorbar(this)\n",
        "  index += 1"
      ],
      "metadata": {
        "colab": {
          "base_uri": "https://localhost:8080/",
          "height": 1000
        },
        "id": "jvNCJYeOllGC",
        "outputId": "c12710e5-b8f9-4135-a8ee-c00a8fde010f"
      },
      "execution_count": 35,
      "outputs": [
        {
          "output_type": "display_data",
          "data": {
            "text/plain": [
              "<Figure size 432x288 with 2 Axes>"
            ],
            "image/png": "[encoded data removed]"
          },
          "metadata": {
            "needs_background": "light"
          }
        },
        {
          "output_type": "display_data",
          "data": {
            "text/plain": [
              "<Figure size 432x288 with 2 Axes>"
            ],
            "image/png": "[encoded data removed]"
          },
          "metadata": {
            "needs_background": "light"
          }
        },
        {
          "output_type": "display_data",
          "data": {
            "text/plain": [
              "<Figure size 432x288 with 2 Axes>"
            ],
            "image/png": "[encoded data removed]"
          },
          "metadata": {
            "needs_background": "light"
          }
        },
        {
          "output_type": "display_data",
          "data": {
            "text/plain": [
              "<Figure size 432x288 with 2 Axes>"
            ],
            "image/png": "[encoded data removed]"
          },
          "metadata": {
            "needs_background": "light"
          }
        },
        {
          "output_type": "display_data",
          "data": {
            "text/plain": [
              "<Figure size 432x288 with 2 Axes>"
            ],
            "image/png": "[encoded data removed]"
          },
          "metadata": {
            "needs_background": "light"
          }
        },
        {
          "output_type": "display_data",
          "data": {
            "text/plain": [
              "<Figure size 432x288 with 2 Axes>"
            ],
            "image/png": "[encoded data removed]"
          },
          "metadata": {
            "needs_background": "light"
          }
        },
        {
          "output_type": "display_data",
          "data": {
            "text/plain": [
              "<Figure size 432x288 with 2 Axes>"
            ],
            "image/png": "[encoded data removed]"
          },
          "metadata": {
            "needs_background": "light"
          }
        },
        {
          "output_type": "display_data",
          "data": {
            "text/plain": [
              "<Figure size 432x288 with 2 Axes>"
            ],
            "image/png": "[encoded data removed]"
          },
          "metadata": {
            "needs_background": "light"
          }
        },
        {
          "output_type": "display_data",
          "data": {
            "text/plain": [
              "<Figure size 432x288 with 2 Axes>"
            ],
            "image/png": "[encoded data removed]"
          },
          "metadata": {
            "needs_background": "light"
          }
        },
        {
          "output_type": "display_data",
          "data": {
            "text/plain": [
              "<Figure size 432x288 with 2 Axes>"
            ],
            "image/png": "[encoded data removed]"
          },
          "metadata": {
            "needs_background": "light"
          }
        },
        {
          "output_type": "display_data",
          "data": {
            "text/plain": [
              "<Figure size 432x288 with 2 Axes>"
            ],
            "image/png": "[encoded data removed]"
          },
          "metadata": {
            "needs_background": "light"
          }
        }
      ]
    },
    {
      "cell_type": "code",
      "source": [
        "#resampling the data yearly \n",
        "burnno_yr = burnarea.resample(indexer={'time':'Y'}).sum(skipna=True) \n",
        "burnno_yr = (burnno_yr==0).astype(int)\n",
        "\n",
        "#extract dimension info\n",
        "time = burnno_yr.time\n",
        "X = burnno_yr.X\n",
        "Y = burnno_yr.Y\n",
        "#initialize storage\n",
        "return_years = np.zeros((len(time), len(Y), len(X))) \n",
        "\n",
        "#loop through\n",
        "index = 1\n",
        "for year in burnno_yr.time[index:]:\n",
        "  tmp_thisyr = burnno_yr.isel(time=index) \n",
        "  tmp_prevyr = return_years[index-1] \n",
        "  tmp_return = tmp_thisyr + tmp_prevyr \n",
        "  tmp_return = tmp_return.where(tmp_thisyr>0, other=0) \n",
        "  return_years[index] = tmp_return\n",
        "  index+=1\n",
        "\n",
        "#transform return_years into a xarray DataArray\n",
        "return_years = xr.DataArray(data=return_years, dims=['time','Y','X'], coords=dict(X=X, Y=Y, time=time), attrs=dict(description='Time since gridcell last burned', units='years'))\n",
        "#remove NaN\n",
        "return_years = return_years.where(maskUS) "
      ],
      "metadata": {
        "id": "wUd588R1Xqy8"
      },
      "execution_count": 64,
      "outputs": []
    },
    {
      "cell_type": "code",
      "source": [
        "#compute the monthly data\n",
        "burnno_mo = (burnarea==0).astype(int)\n",
        "time = burnno_mo.time\n",
        "X = burnno_mo.X\n",
        "Y = burnno_mo.Y\n",
        "\n",
        "return_months = np.zeros((len(time), len(Y), len(X))) \n",
        "\n",
        "index = 1\n",
        "for year in burnno_mo.time[index:]:\n",
        "  tmp_thismo = burnno_mo.isel(time=index) \n",
        "  tmp_prevmo = return_months[index-1] \n",
        "  tmp_return = tmp_thismo + tmp_prevmo \n",
        "  tmp_return = tmp_return.where(tmp_thisyr>0, other=0) \n",
        "  return_months[index] = tmp_return \n",
        "  index+=1\n",
        "  \n",
        "burn_np = burnarea.values\n",
        "burn_np2d = burn_np.reshape(burn_np.shape[0], -1)\n",
        "burn_np[np.isnan(burn_np)] = 0"
      ],
      "metadata": {
        "id": "gr_jhb1napTl"
      },
      "execution_count": 65,
      "outputs": []
    },
    {
      "cell_type": "code",
      "source": [
        "#format monthly data\n",
        "return_months = xr.DataArray(data=return_months,\n",
        "                            dims=['time','Y','X'],\n",
        "                            coords=dict(X=X, Y=Y, time=time),\n",
        "                            attrs=dict(\n",
        "                                description='Time since gridcell last burned',\n",
        "                                units='months'\n",
        "                            ))\n",
        "\n",
        "return_months = return_months.where(maskUS) "
      ],
      "metadata": {
        "id": "tuyAeXdI-LaJ"
      },
      "execution_count": 66,
      "outputs": []
    },
    {
      "cell_type": "code",
      "source": [
        "# format variables\n",
        "time = burnarea.time\n",
        "elev_np = elevstd.values\n",
        "vpd_np = vpd.values\n",
        "rh_np = rh.values\n",
        "tmax_np = tmax.values\n",
        "prec_np = prec.values\n",
        "wind_np = wind.values \n",
        "vpdz_np = vpd_z.values\n",
        "rhz_np = rh_z.values\n",
        "tmaxz_np = tmax_z.values \n",
        "burn_np = burnarea.values \n",
        "wui_np = wui_distance_new.values\n",
        "returnm_np = return_months.values \n"
      ],
      "metadata": {
        "id": "9iT1aNV4-B26"
      },
      "execution_count": 68,
      "outputs": []
    },
    {
      "cell_type": "code",
      "source": [
        "#shape the data\n",
        "wind_np2d = wind_np.reshape(wind_np.shape[0], -1)\n",
        "vpdz_np2d = vpdz_np.reshape(vpdz_np.shape[0], -1)\n",
        "vpd_np2d = vpd_np.reshape(vpd_np.shape[0], -1)\n",
        "tmax_np2d = tmax_np.reshape(tmax_np.shape[0], -1)\n",
        "tmaxz_np2d = tmaxz_np.reshape(tmaxz_np.shape[0], -1)\n",
        "burn_np2d = burn_np.reshape(burn_np.shape[0], -1)\n",
        "returnm_np2d = returnm_np.reshape(returnm_np.shape[0], -1)"
      ],
      "metadata": {
        "id": "dibJhYPR0POm"
      },
      "execution_count": 70,
      "outputs": []
    },
    {
      "cell_type": "code",
      "source": [
        "#remove NaNs\n",
        "wind_np[np.isnan(wind_np)] = 0\n",
        "vpdz_np[np.isnan(vpdz_np)] = 0\n",
        "tmaxz_np[np.isnan(tmaxz_np)] = 0\n",
        "burn_np[np.isnan(burn_np)] = 0\n",
        "returnm_np[np.isnan(returnm_np)] = 0"
      ],
      "metadata": {
        "id": "PFz7jfNU1TOH"
      },
      "execution_count": 71,
      "outputs": []
    },
    {
      "cell_type": "markdown",
      "source": [
        "#Improved Training"
      ],
      "metadata": {
        "id": "qrWVuoJ-y-gD"
      }
    },
    {
      "cell_type": "code",
      "source": [
        "#trim the dataset \n",
        "def trim(x):\n",
        "  #make divisible by 10 to make separate datapoints later\n",
        "  return x[:,:200,:150] \n",
        "def swap(x):\n",
        "  #swap time dim to end\n",
        "  return np.swapaxes(x, 0, 2)\n",
        "#define each feature\n",
        "feature1 = swap(trim(wind_np)) \n",
        "feature2 = swap(trim(vpdz_np)) \n",
        "feature3 = swap(trim(tmaxz_np)) \n",
        "feature4 = swap(trim(burn_np)) \n",
        "feature5 = swap(trim(returnm_np))\n",
        "#stack and create the dataset\n",
        "dataset = np.stack([feature1,\n",
        "                    feature2,\n",
        "                    feature3,\n",
        "                    feature4,\n",
        "                    feature5])\n",
        "dataset = np.transpose(dataset,(3,1,2,0)) "
      ],
      "metadata": {
        "id": "kuAM-j5S2M5T"
      },
      "execution_count": 72,
      "outputs": []
    },
    {
      "cell_type": "code",
      "source": [
        "#break spatial data into (blocksize,blocksize) blocks\n",
        "new_data = []\n",
        "blocksize = 10\n",
        "dim1=dataset.shape[1]\n",
        "dim2=dataset.shape[2]\n",
        "#change from (timesteps, dim1, dim2, channels) to (datapoints, timesteps, blocksize, blocksize, channels) \n",
        "for i in range(int(dim1/blocksize)):\n",
        "  x_start = i*blocksize\n",
        "  x_end = x_start + blocksize\n",
        "  for j in range(int(dim2/blocksize)):\n",
        "    y_start = j*blocksize\n",
        "    y_end = y_start+blocksize\n",
        "    datapoint = dataset[:,x_start:x_end,y_start:y_end,:]\n",
        "    new_data.append(datapoint)\n",
        "dataset_10 = np.stack(new_data) #print(dataset_10.shape)\n",
        "\n",
        "#split data\n",
        "train_dataset = dataset_10[:,:232,:,:,:]\n",
        "test_dataset = dataset_10[:,232:,:,:,:] "
      ],
      "metadata": {
        "id": "GosoZFEH2bJ0"
      },
      "execution_count": 73,
      "outputs": []
    },
    {
      "cell_type": "code",
      "source": [
        "#splits dataset into (input,output)\n",
        "def make_input_output(dataset):\n",
        "  #dataset is (N,time,dim1,dim2,channels)\n",
        "  timesteps = dataset.shape[1]\n",
        "  burned_area_channel = 0\n",
        "  #shift targets y by one timestep from x as in demo \n",
        "  #burned area channel used for outputs\n",
        "  x = dataset[:, 0 : timesteps - 1, :,:,:]\n",
        "  y = dataset[:, 1 : timesteps , :,:,burned_area_channel]\n",
        "  return x,y\n",
        "\n",
        "x_train,y_train = make_input_output(train_dataset)\n",
        "x_val,y_val = make_input_output(test_dataset)"
      ],
      "metadata": {
        "id": "VM9n6g4U2evv"
      },
      "execution_count": 74,
      "outputs": []
    },
    {
      "cell_type": "code",
      "source": [
        "#code to test gpu speed up over cpu\n",
        "#also initialized gpu and configures it\n",
        "\n",
        "import tensorflow as tf\n",
        "import timeit\n",
        "\n",
        "device_name = tf.test.gpu_device_name()\n",
        "if device_name != '/device:GPU:0':\n",
        "  print(\n",
        "      '\\n\\nThis error most likely means that this notebook is not '\n",
        "      'configured to use a GPU.  Change this in Notebook Settings via the '\n",
        "      'command palette (cmd/ctrl-shift-P) or the Edit menu.\\n\\n')\n",
        "  raise SystemError('GPU device not found')\n",
        "\n",
        "def cpu():\n",
        "  with tf.device('/cpu:0'):\n",
        "    random_image_cpu = tf.random.normal((100, 100, 100, 3))\n",
        "    net_cpu = tf.keras.layers.Conv2D(32, 7)(random_image_cpu)\n",
        "    return tf.math.reduce_sum(net_cpu)\n",
        "\n",
        "def gpu():\n",
        "  with tf.device('/device:GPU:0'):\n",
        "    random_image_gpu = tf.random.normal((100, 100, 100, 3))\n",
        "    net_gpu = tf.keras.layers.Conv2D(32, 7)(random_image_gpu)\n",
        "    return tf.math.reduce_sum(net_gpu)\n",
        "  \n",
        "#we run each op once to warm up; see: https://stackoverflow.com/a/45067900\n",
        "cpu()\n",
        "gpu()\n",
        "\n",
        "#run the op several times\n",
        "print('Time (s) to convolve 32x7x7x3 filter over random 100x100x100x3 images '\n",
        "      '(batch x height x width x channel). Sum of ten runs.')\n",
        "print('CPU (s):')\n",
        "cpu_time = timeit.timeit('cpu()', number=10, setup=\"from __main__ import cpu\")\n",
        "print(cpu_time)\n",
        "print('GPU (s):')\n",
        "gpu_time = timeit.timeit('gpu()', number=10, setup=\"from __main__ import gpu\")\n",
        "print(gpu_time)\n",
        "print('GPU speedup over CPU: {}x'.format(int(cpu_time/gpu_time)))"
      ],
      "metadata": {
        "colab": {
          "base_uri": "https://localhost:8080/"
        },
        "id": "UAL_1GPkmheL",
        "outputId": "f2361ddb-48f9-4268-9d03-259f94bb7e31"
      },
      "execution_count": 75,
      "outputs": [
        {
          "output_type": "stream",
          "name": "stdout",
          "text": [
            "Time (s) to convolve 32x7x7x3 filter over random 100x100x100x3 images (batch x height x width x channel). Sum of ten runs.\n",
            "CPU (s):\n",
            "3.6166673220013763\n",
            "GPU (s):\n",
            "0.03676845600057277\n",
            "GPU speedup over CPU: 98x\n"
          ]
        }
      ]
    },
    {
      "cell_type": "code",
      "source": [
        "#in the event the instance running on a tpu this code will initialize it for performance gains\n",
        "print(\"Tensorflow version \" + tf.__version__)\n",
        "\n",
        "try:\n",
        "  #TPU detenction\n",
        "  tpu = tf.distribute.cluster_resolver.TPUClusterResolver() \n",
        "  print('Running on TPU ', tpu.cluster_spec().as_dict()['worker'])\n",
        "except ValueError:\n",
        "  raise BaseException('ERROR: Not connected to a TPU runtime; please see the previous cell in this notebook for instructions!')\n",
        "\n",
        "tf.config.experimental_connect_to_cluster(tpu)\n",
        "tf.tpu.experimental.initialize_tpu_system(tpu)\n",
        "\n",
        "#initialize a Google TPU to accelerate Tensor flow math and training\n",
        "#CPUs are slow and outdate for this TPU gang"
      ],
      "metadata": {
        "colab": {
          "base_uri": "https://localhost:8080/",
          "height": 478
        },
        "id": "6n08kRpK1Mkp",
        "outputId": "b2954175-0330-4ddf-c5b3-59a0dd56d8b1"
      },
      "execution_count": 76,
      "outputs": [
        {
          "output_type": "stream",
          "name": "stdout",
          "text": [
            "Tensorflow version 2.9.2\n"
          ]
        },
        {
          "output_type": "error",
          "ename": "BaseException",
          "evalue": "ignored",
          "traceback": [
            "\u001b[0;31m---------------------------------------------------------------------------\u001b[0m",
            "\u001b[0;31mValueError\u001b[0m                                Traceback (most recent call last)",
            "\u001b[0;32m<ipython-input-76-924266fd0a0f>\u001b[0m in \u001b[0;36m<module>\u001b[0;34m\u001b[0m\n\u001b[1;32m      5\u001b[0m   \u001b[0;31m#TPU detenction\u001b[0m\u001b[0;34m\u001b[0m\u001b[0;34m\u001b[0m\u001b[0;34m\u001b[0m\u001b[0m\n\u001b[0;32m----> 6\u001b[0;31m   \u001b[0mtpu\u001b[0m \u001b[0;34m=\u001b[0m \u001b[0mtf\u001b[0m\u001b[0;34m.\u001b[0m\u001b[0mdistribute\u001b[0m\u001b[0;34m.\u001b[0m\u001b[0mcluster_resolver\u001b[0m\u001b[0;34m.\u001b[0m\u001b[0mTPUClusterResolver\u001b[0m\u001b[0;34m(\u001b[0m\u001b[0;34m)\u001b[0m\u001b[0;34m\u001b[0m\u001b[0;34m\u001b[0m\u001b[0m\n\u001b[0m\u001b[1;32m      7\u001b[0m   \u001b[0mprint\u001b[0m\u001b[0;34m(\u001b[0m\u001b[0;34m'Running on TPU '\u001b[0m\u001b[0;34m,\u001b[0m \u001b[0mtpu\u001b[0m\u001b[0;34m.\u001b[0m\u001b[0mcluster_spec\u001b[0m\u001b[0;34m(\u001b[0m\u001b[0;34m)\u001b[0m\u001b[0;34m.\u001b[0m\u001b[0mas_dict\u001b[0m\u001b[0;34m(\u001b[0m\u001b[0;34m)\u001b[0m\u001b[0;34m[\u001b[0m\u001b[0;34m'worker'\u001b[0m\u001b[0;34m]\u001b[0m\u001b[0;34m)\u001b[0m\u001b[0;34m\u001b[0m\u001b[0;34m\u001b[0m\u001b[0m\n",
            "\u001b[0;32m/usr/local/lib/python3.8/dist-packages/tensorflow/python/distribute/cluster_resolver/tpu/tpu_cluster_resolver.py\u001b[0m in \u001b[0;36m__init__\u001b[0;34m(self, tpu, zone, project, job_name, coordinator_name, coordinator_address, credentials, service, discovery_url)\u001b[0m\n\u001b[1;32m    197\u001b[0m       \u001b[0;31m# Default Cloud environment\u001b[0m\u001b[0;34m\u001b[0m\u001b[0;34m\u001b[0m\u001b[0;34m\u001b[0m\u001b[0m\n\u001b[0;32m--> 198\u001b[0;31m       self._cloud_tpu_client = client.Client(\n\u001b[0m\u001b[1;32m    199\u001b[0m           \u001b[0mtpu\u001b[0m\u001b[0;34m=\u001b[0m\u001b[0mtpu\u001b[0m\u001b[0;34m,\u001b[0m\u001b[0;34m\u001b[0m\u001b[0;34m\u001b[0m\u001b[0m\n",
            "\u001b[0;32m/usr/local/lib/python3.8/dist-packages/tensorflow/python/tpu/client/client.py\u001b[0m in \u001b[0;36m__init__\u001b[0;34m(self, tpu, zone, project, credentials, service, discovery_url)\u001b[0m\n\u001b[1;32m    141\u001b[0m     \u001b[0;32mif\u001b[0m \u001b[0mtpu\u001b[0m \u001b[0;32mis\u001b[0m \u001b[0;32mNone\u001b[0m\u001b[0;34m:\u001b[0m\u001b[0;34m\u001b[0m\u001b[0;34m\u001b[0m\u001b[0m\n\u001b[0;32m--> 142\u001b[0;31m       \u001b[0;32mraise\u001b[0m \u001b[0mValueError\u001b[0m\u001b[0;34m(\u001b[0m\u001b[0;34m'Please provide a TPU Name to connect to.'\u001b[0m\u001b[0;34m)\u001b[0m\u001b[0;34m\u001b[0m\u001b[0;34m\u001b[0m\u001b[0m\n\u001b[0m\u001b[1;32m    143\u001b[0m \u001b[0;34m\u001b[0m\u001b[0m\n",
            "\u001b[0;31mValueError\u001b[0m: Please provide a TPU Name to connect to.",
            "\nDuring handling of the above exception, another exception occurred:\n",
            "\u001b[0;31mBaseException\u001b[0m                             Traceback (most recent call last)",
            "\u001b[0;32m<ipython-input-76-924266fd0a0f>\u001b[0m in \u001b[0;36m<module>\u001b[0;34m\u001b[0m\n\u001b[1;32m      7\u001b[0m   \u001b[0mprint\u001b[0m\u001b[0;34m(\u001b[0m\u001b[0;34m'Running on TPU '\u001b[0m\u001b[0;34m,\u001b[0m \u001b[0mtpu\u001b[0m\u001b[0;34m.\u001b[0m\u001b[0mcluster_spec\u001b[0m\u001b[0;34m(\u001b[0m\u001b[0;34m)\u001b[0m\u001b[0;34m.\u001b[0m\u001b[0mas_dict\u001b[0m\u001b[0;34m(\u001b[0m\u001b[0;34m)\u001b[0m\u001b[0;34m[\u001b[0m\u001b[0;34m'worker'\u001b[0m\u001b[0;34m]\u001b[0m\u001b[0;34m)\u001b[0m\u001b[0;34m\u001b[0m\u001b[0;34m\u001b[0m\u001b[0m\n\u001b[1;32m      8\u001b[0m \u001b[0;32mexcept\u001b[0m \u001b[0mValueError\u001b[0m\u001b[0;34m:\u001b[0m\u001b[0;34m\u001b[0m\u001b[0;34m\u001b[0m\u001b[0m\n\u001b[0;32m----> 9\u001b[0;31m   \u001b[0;32mraise\u001b[0m \u001b[0mBaseException\u001b[0m\u001b[0;34m(\u001b[0m\u001b[0;34m'ERROR: Not connected to a TPU runtime; please see the previous cell in this notebook for instructions!'\u001b[0m\u001b[0;34m)\u001b[0m\u001b[0;34m\u001b[0m\u001b[0;34m\u001b[0m\u001b[0m\n\u001b[0m\u001b[1;32m     10\u001b[0m \u001b[0;34m\u001b[0m\u001b[0m\n\u001b[1;32m     11\u001b[0m \u001b[0mtf\u001b[0m\u001b[0;34m.\u001b[0m\u001b[0mconfig\u001b[0m\u001b[0;34m.\u001b[0m\u001b[0mexperimental_connect_to_cluster\u001b[0m\u001b[0;34m(\u001b[0m\u001b[0mtpu\u001b[0m\u001b[0;34m)\u001b[0m\u001b[0;34m\u001b[0m\u001b[0;34m\u001b[0m\u001b[0m\n",
            "\u001b[0;31mBaseException\u001b[0m: ERROR: Not connected to a TPU runtime; please see the previous cell in this notebook for instructions!"
          ]
        }
      ]
    },
    {
      "cell_type": "code",
      "source": [
        "from tensorflow.keras import layers\n",
        "from tensorflow import keras\n",
        "\n",
        "inp = layers.Input(shape=(None, *x_train.shape[2:]))\n",
        "#density layer improves efficiency of loss training\n",
        "x = layers.Dense(16, activation='sigmoid')\n",
        "x = layers.Dropout(0.2) #Drop out regulization to reduce risk of overfit\n",
        "x = layers.ConvLSTM2D( filters=8, kernel_size=(5, 5), padding=\"same\", return_sequences=True, activation=\"sigmoid\",)(inp)\n",
        "x = layers.BatchNormalization()(x)\n",
        "x = layers.ConvLSTM2D(filters=8, kernel_size=(3, 3), padding=\"same\", return_sequences=True, activation=\"sigmoid\",)(x)\n",
        "x = layers.BatchNormalization()(x)\n",
        "x = layers.ConvLSTM2D(filters=8, kernel_size=(1, 1), padding=\"same\", return_sequences=True, activation=\"sigmoid\",)(x)\n",
        "#assuming binary targets here, but see below for another option\n",
        "x = layers.Conv3D(filters=1, kernel_size=(3, 3, 3), activation=\"relu\", padding=\"same\")(x)\n",
        "\n",
        "#build the complete model and compile it.\n",
        "model = keras.models.Model(inp, x)\n",
        "\n",
        "#compile model and enable jit compilation of the model to native\n",
        "#native compilation speeds this up roughly 3.5x per epoch\n",
        "#using relu on the last layer + mean squared error to predict the area that will burn\n",
        "#switching to adamax optimizer over adam to take advtange of the fact extreme gradient boosting improves lstm capabilties\n",
        "#while using adamax is not as good as transferal training with xgboost it is pretty good and xgboost has some issues with the data when attempted\n",
        "#so this is a nice compromise that works\n",
        "model.compile(loss=keras.losses.mean_squared_error, optimizer=keras.optimizers.Adamax(),metrics=['accuracy'], jit_compile=True)\n"
      ],
      "metadata": {
        "id": "Wnxcn2qY4g79"
      },
      "execution_count": 77,
      "outputs": []
    },
    {
      "cell_type": "code",
      "source": [
        "#define some callbacks to improve training\n",
        "early_stopping = keras.callbacks.EarlyStopping(monitor=\"val_loss\", patience=10)\n",
        "reduce_lr = keras.callbacks.ReduceLROnPlateau(monitor=\"val_loss\", patience=5)\n",
        "#define modifiable training hyperparameters.\n",
        "epochs = 20\n",
        "batch_size = 5"
      ],
      "metadata": {
        "id": "cVtPgt8M1YMZ"
      },
      "execution_count": 80,
      "outputs": []
    },
    {
      "cell_type": "code",
      "source": [
        "from numba import jit\n",
        "#fit the model to the training data and jit the function call with numba\n",
        "#while the model itself is already compiled in native this jits the function to fit the data aswell giving a small speed up ~roughly 30%\n",
        "@jit(forceobj=True)\n",
        "def trainModel(X_train, y_train, batch_size, epochs, x_val, y_val, early_stopping, reduce_lr):\n",
        "  x_val = x_val\n",
        "  y_val = y_val\n",
        "  early_stopping = early_stopping\n",
        "  reduce_lr = reduce_lr\n",
        "  history = model.fit(x_train, y_train, batch_size=batch_size, epochs=epochs, validation_data=(x_val, y_val), callbacks=[early_stopping, reduce_lr],)\n",
        "  return history\n",
        "\n",
        "history = trainModel(x_train, y_train, batch_size, epochs, x_val, y_val, early_stopping, reduce_lr)"
      ],
      "metadata": {
        "colab": {
          "base_uri": "https://localhost:8080/"
        },
        "id": "t-8mV4vm1cgt",
        "outputId": "121ffb83-fc7a-48cb-d32d-f92ad06cb093"
      },
      "execution_count": null,
      "outputs": [
        {
          "output_type": "stream",
          "name": "stdout",
          "text": [
            "Epoch 1/20\n",
            "60/60 [==============================] - 40s 526ms/step - loss: 1.8523 - accuracy: 0.0128 - val_loss: 2.1242 - val_accuracy: 2.6298e-05 - lr: 0.0010\n",
            "Epoch 2/20\n",
            "60/60 [==============================] - 27s 446ms/step - loss: 1.1032 - accuracy: 0.0091 - val_loss: 1.9651 - val_accuracy: 3.6348e-05 - lr: 0.0010\n",
            "Epoch 3/20\n",
            "60/60 [==============================] - 26s 438ms/step - loss: 1.0069 - accuracy: 0.0384 - val_loss: 1.7688 - val_accuracy: 2.6298e-05 - lr: 0.0010\n",
            "Epoch 4/20\n",
            "60/60 [==============================] - 21s 346ms/step - loss: 0.8102 - accuracy: 0.0739 - val_loss: 1.5021 - val_accuracy: 2.6633e-05 - lr: 0.0010\n",
            "Epoch 5/20\n",
            "60/60 [==============================] - 22s 361ms/step - loss: 0.7359 - accuracy: 0.0784 - val_loss: 1.2205 - val_accuracy: 0.0022 - lr: 0.0010\n",
            "Epoch 6/20\n",
            "30/60 [==============>...............] - ETA: 7s - loss: 0.8102 - accuracy: 0.0625"
          ]
        }
      ]
    },
    {
      "cell_type": "code",
      "source": [
        "fig, ax = plt.subplots()\n",
        "ax.plot(history.history['loss'], label='loss')\n",
        "ax.plot(history.history['val_loss'], label='validation loss')\n",
        "ax.set_title('ConvLSTM Model Loss')\n",
        "ax.set_ylabel('loss')\n",
        "ax.set_xlabel('epoch')\n",
        "ax.legend()\n",
        "ax.axis(xmin=0,xmax=20)\n",
        "fig.tight_layout()\n",
        "\n",
        "np.shape(x_val)\n",
        "#select a few random examples from the dataset\n",
        "rand = np.random.choice(range(len(test_dataset)), size=5)\n",
        "example = x_train[rand[0]]\n",
        "#pick 10 randomized frames from the example\n",
        "rand2 = np.random.choice(range(199), size=10)\n",
        "frames = example[rand2, ...]\n",
        "frames_new = np.empty((10, 10, 10))\n",
        "\n",
        "original_frames = y_train[rand[0],rand2, ...]\n",
        "#predict a new set of 10 frames.\n",
        "for _ in range(10):\n",
        "  #extract the model's prediction and post-process it \n",
        "  new_prediction = model.predict(np.expand_dims(frames, axis=0)) \n",
        "  new_prediction = np.squeeze(new_prediction)\n",
        "  new_prediction = np.squeeze(new_prediction)\n",
        "  predicted_frame = np.expand_dims(new_prediction[-1, ...], axis=0)\n",
        "  #extend the set of prediction frames.\n",
        "  frames_new = np.concatenate((frames_new, predicted_frame)) \n",
        "\n",
        "fig, axes = plt.subplots(2, 10, figsize=(20, 4))\n",
        "\n",
        "for idx, ax in enumerate(axes[0]): \n",
        "  ax.imshow(np.squeeze(original_frames[idx]), cmap=\"gray\") \n",
        "  ax.set_title(f\"Month {rand2[idx]}\")\n",
        "  ax.axis(\"off\")\n",
        "new_frames = frames_new[10:, ...] \n",
        "\n",
        "for idx, ax in enumerate(axes[1]):\n",
        "  ax.imshow(np.squeeze(new_frames[idx]), cmap=\"gray\") \n",
        "  ax.set_title(f\"Month {rand2[idx]}\")\n",
        "  ax.axis(\"off\")\n",
        "fig.suptitle(f\"Plotting for group {rand[0]}\")"
      ],
      "metadata": {
        "colab": {
          "base_uri": "https://localhost:8080/",
          "height": 771
        },
        "id": "dC-z05EwXA8S",
        "outputId": "1b075b3f-78b5-42d5-eca0-993b84328a71"
      },
      "execution_count": 57,
      "outputs": [
        {
          "output_type": "stream",
          "name": "stdout",
          "text": [
            "1/1 [==============================] - 0s 31ms/step\n",
            "1/1 [==============================] - 0s 20ms/step\n",
            "1/1 [==============================] - 0s 18ms/step\n",
            "1/1 [==============================] - 0s 27ms/step\n",
            "1/1 [==============================] - 0s 20ms/step\n",
            "1/1 [==============================] - 0s 22ms/step\n",
            "1/1 [==============================] - 0s 33ms/step\n",
            "1/1 [==============================] - 0s 27ms/step\n",
            "1/1 [==============================] - 0s 22ms/step\n",
            "1/1 [==============================] - 0s 18ms/step\n"
          ]
        },
        {
          "output_type": "execute_result",
          "data": {
            "text/plain": [
              "Text(0.5, 0.98, 'Plotting for group 283')"
            ]
          },
          "metadata": {},
          "execution_count": 57
        },
        {
          "output_type": "display_data",
          "data": {
            "text/plain": [
              "<Figure size 432x288 with 1 Axes>"
            ],
            "image/png": "[encoded data removed]"
          },
          "metadata": {
            "needs_background": "light"
          }
        },
        {
          "output_type": "display_data",
          "data": {
            "text/plain": [
              "<Figure size 1440x288 with 20 Axes>"
            ],
            "image/png": "[encoded data removed]"
          },
          "metadata": {
            "needs_background": "light"
          }
        }
      ]
    },
    {
      "cell_type": "markdown",
      "source": [
        "#RF Draft"
      ],
      "metadata": {
        "id": "8bw_HoMhKWpe"
      }
    },
    {
      "cell_type": "code",
      "source": [
        "#some definitions taken from the utils file from the course's provided files\n",
        "def prepare_predictor(data_sets,time_reindex=True):\n",
        "    \"\"\"\n",
        "    Args:\n",
        "        data_sets list(str): names of datasets\n",
        "    \"\"\"\n",
        "        \n",
        "    # Create training and testing arrays\n",
        "    if isinstance(data_sets, str):\n",
        "        data_sets = [data_sets]\n",
        "        \n",
        "    X_all      = []\n",
        "    length_all = []\n",
        "    \n",
        "    for file in data_sets:\n",
        "        X_all.append(file)\n",
        "        length_all.append(len(file.time))\n",
        "    \n",
        "    X = xr.concat(X_all,dim='time')\n",
        "    length_all = np.array(length_all)\n",
        "    if time_reindex:\n",
        "        X = X.assign_coords(time=np.arange(len(X.time)))\n",
        "\n",
        "    return X, length_all\n",
        "\n",
        "def prepare_predictand(data_sets,time_reindex=True):\n",
        "    if isinstance(data_sets, str):\n",
        "        data_sets = [data_sets]\n",
        "        \n",
        "    Y_all = []\n",
        "    length_all = []\n",
        "    \n",
        "    for file in data_sets:\n",
        "        Y_all.append(file)\n",
        "        length_all.append(len(file.time))\n",
        "    \n",
        "    length_all = np.array(length_all)\n",
        "    Y = xr.concat(Y_all,dim='time')\n",
        "    Y = Y.rename({'X':'longitude','Y': 'latitude'}).transpose('time','latitude', 'longitude')\n",
        "    if time_reindex:\n",
        "        Y = Y.assign_coords(time=np.arange(len(Y.time)))\n",
        "    \n",
        "    return Y, length_all"
      ],
      "metadata": {
        "id": "LctglsBJyy0r"
      },
      "execution_count": null,
      "outputs": []
    },
    {
      "cell_type": "code",
      "source": [
        "from sklearn.ensemble import RandomForestRegressor \n",
        "from sklearn.model_selection import RandomizedSearchCV\n",
        "\n",
        "%matplotlib inline\n",
        "%config InlineBackend.figure_format = 'retina'\n",
        "%load_ext autoreload\n",
        "%autoreload 2\n",
        "\n",
        "plt.rcParams['savefig.dpi'] = 400\n",
        "plt.rcParams['font.size'] = 13\n",
        "plt.rcParams[\"legend.frameon\"] = False"
      ],
      "metadata": {
        "colab": {
          "base_uri": "https://localhost:8080/"
        },
        "id": "KDRn7Iegy9xe",
        "outputId": "0ec4e9a1-c127-40ae-9198-3907d9585dc3"
      },
      "execution_count": null,
      "outputs": [
        {
          "output_type": "stream",
          "name": "stdout",
          "text": [
            "The autoreload extension is already loaded. To reload it, use:\n",
            "  %reload_ext autoreload\n"
          ]
        }
      ]
    },
    {
      "cell_type": "code",
      "source": [
        "#X = time\n",
        "#Y = burnarea\n",
        "\n",
        "train_files = [burnarea_data]#, vpd, rh, tmax, wind, prec]\n",
        "\n",
        "x_train_xr, x_length  = prepare_predictor(train_files)\n",
        "y_train_xr, y_length  = prepare_predictand(train_files)\n",
        "\n",
        "#Test set\n",
        "#X_test_xr, _ = prepare_predictor(train_files)\n",
        "#y_test_xr, _ = prepare_predictand(train_files)"
      ],
      "metadata": {
        "id": "psg9yc7Sy960"
      },
      "execution_count": null,
      "outputs": []
    },
    {
      "cell_type": "code",
      "source": [],
      "metadata": {
        "colab": {
          "base_uri": "https://localhost:8080/",
          "height": 389
        },
        "id": "RID6zYdFFsgN",
        "outputId": "4f7da71c-6c8c-4156-b5c5-f1d493f537ed"
      },
      "execution_count": null,
      "outputs": [
        {
          "output_type": "error",
          "ename": "ValueError",
          "evalue": "ignored",
          "traceback": [
            "\u001b[0;31m---------------------------------------------------------------------------\u001b[0m",
            "\u001b[0;31mValueError\u001b[0m                                Traceback (most recent call last)",
            "\u001b[0;32m<ipython-input-70-8466d552047c>\u001b[0m in \u001b[0;36m<module>\u001b[0;34m\u001b[0m\n\u001b[0;32m----> 1\u001b[0;31m x_train_df = pd.DataFrame({\"X\": x_train_xr[\"X\"].data,\n\u001b[0m\u001b[1;32m      2\u001b[0m                            \"Y\": x_train_xr[\"Y\"].data})\n\u001b[1;32m      3\u001b[0m \u001b[0;34m\u001b[0m\u001b[0m\n\u001b[1;32m      4\u001b[0m \u001b[0my_train_df\u001b[0m \u001b[0;34m=\u001b[0m \u001b[0my_train_xr\u001b[0m\u001b[0;34m[\u001b[0m\u001b[0;34m\"burnarea\"\u001b[0m\u001b[0;34m]\u001b[0m\u001b[0;34m.\u001b[0m\u001b[0mstack\u001b[0m\u001b[0;34m(\u001b[0m\u001b[0mdim\u001b[0m\u001b[0;34m=\u001b[0m\u001b[0;34m[\u001b[0m\u001b[0;34m\"latitude\"\u001b[0m\u001b[0;34m,\u001b[0m \u001b[0;34m\"longitude\"\u001b[0m\u001b[0;34m]\u001b[0m\u001b[0;34m)\u001b[0m\u001b[0;34m\u001b[0m\u001b[0;34m\u001b[0m\u001b[0m\n\u001b[1;32m      5\u001b[0m \u001b[0my_train_df\u001b[0m \u001b[0;34m=\u001b[0m \u001b[0mpd\u001b[0m\u001b[0;34m.\u001b[0m\u001b[0mDataFrame\u001b[0m\u001b[0;34m(\u001b[0m\u001b[0my_train_df\u001b[0m\u001b[0;34m.\u001b[0m\u001b[0mto_pandas\u001b[0m\u001b[0;34m(\u001b[0m\u001b[0;34m)\u001b[0m\u001b[0;34m)\u001b[0m\u001b[0;34m\u001b[0m\u001b[0;34m\u001b[0m\u001b[0m\n",
            "\u001b[0;32m/usr/local/lib/python3.8/dist-packages/pandas/core/frame.py\u001b[0m in \u001b[0;36m__init__\u001b[0;34m(self, data, index, columns, dtype, copy)\u001b[0m\n\u001b[1;32m    612\u001b[0m         \u001b[0;32melif\u001b[0m \u001b[0misinstance\u001b[0m\u001b[0;34m(\u001b[0m\u001b[0mdata\u001b[0m\u001b[0;34m,\u001b[0m \u001b[0mdict\u001b[0m\u001b[0;34m)\u001b[0m\u001b[0;34m:\u001b[0m\u001b[0;34m\u001b[0m\u001b[0;34m\u001b[0m\u001b[0m\n\u001b[1;32m    613\u001b[0m             \u001b[0;31m# GH#38939 de facto copy defaults to False only in non-dict cases\u001b[0m\u001b[0;34m\u001b[0m\u001b[0;34m\u001b[0m\u001b[0;34m\u001b[0m\u001b[0m\n\u001b[0;32m--> 614\u001b[0;31m             \u001b[0mmgr\u001b[0m \u001b[0;34m=\u001b[0m \u001b[0mdict_to_mgr\u001b[0m\u001b[0;34m(\u001b[0m\u001b[0mdata\u001b[0m\u001b[0;34m,\u001b[0m \u001b[0mindex\u001b[0m\u001b[0;34m,\u001b[0m \u001b[0mcolumns\u001b[0m\u001b[0;34m,\u001b[0m \u001b[0mdtype\u001b[0m\u001b[0;34m=\u001b[0m\u001b[0mdtype\u001b[0m\u001b[0;34m,\u001b[0m \u001b[0mcopy\u001b[0m\u001b[0;34m=\u001b[0m\u001b[0mcopy\u001b[0m\u001b[0;34m,\u001b[0m \u001b[0mtyp\u001b[0m\u001b[0;34m=\u001b[0m\u001b[0mmanager\u001b[0m\u001b[0;34m)\u001b[0m\u001b[0;34m\u001b[0m\u001b[0;34m\u001b[0m\u001b[0m\n\u001b[0m\u001b[1;32m    615\u001b[0m         \u001b[0;32melif\u001b[0m \u001b[0misinstance\u001b[0m\u001b[0;34m(\u001b[0m\u001b[0mdata\u001b[0m\u001b[0;34m,\u001b[0m \u001b[0mma\u001b[0m\u001b[0;34m.\u001b[0m\u001b[0mMaskedArray\u001b[0m\u001b[0;34m)\u001b[0m\u001b[0;34m:\u001b[0m\u001b[0;34m\u001b[0m\u001b[0;34m\u001b[0m\u001b[0m\n\u001b[1;32m    616\u001b[0m             \u001b[0;32mimport\u001b[0m \u001b[0mnumpy\u001b[0m\u001b[0;34m.\u001b[0m\u001b[0mma\u001b[0m\u001b[0;34m.\u001b[0m\u001b[0mmrecords\u001b[0m \u001b[0;32mas\u001b[0m \u001b[0mmrecords\u001b[0m\u001b[0;34m\u001b[0m\u001b[0;34m\u001b[0m\u001b[0m\n",
            "\u001b[0;32m/usr/local/lib/python3.8/dist-packages/pandas/core/internals/construction.py\u001b[0m in \u001b[0;36mdict_to_mgr\u001b[0;34m(data, index, columns, dtype, typ, copy)\u001b[0m\n\u001b[1;32m    462\u001b[0m         \u001b[0;31m# TODO: can we get rid of the dt64tz special case above?\u001b[0m\u001b[0;34m\u001b[0m\u001b[0;34m\u001b[0m\u001b[0;34m\u001b[0m\u001b[0m\n\u001b[1;32m    463\u001b[0m \u001b[0;34m\u001b[0m\u001b[0m\n\u001b[0;32m--> 464\u001b[0;31m     return arrays_to_mgr(\n\u001b[0m\u001b[1;32m    465\u001b[0m         \u001b[0marrays\u001b[0m\u001b[0;34m,\u001b[0m \u001b[0mdata_names\u001b[0m\u001b[0;34m,\u001b[0m \u001b[0mindex\u001b[0m\u001b[0;34m,\u001b[0m \u001b[0mcolumns\u001b[0m\u001b[0;34m,\u001b[0m \u001b[0mdtype\u001b[0m\u001b[0;34m=\u001b[0m\u001b[0mdtype\u001b[0m\u001b[0;34m,\u001b[0m \u001b[0mtyp\u001b[0m\u001b[0;34m=\u001b[0m\u001b[0mtyp\u001b[0m\u001b[0;34m,\u001b[0m \u001b[0mconsolidate\u001b[0m\u001b[0;34m=\u001b[0m\u001b[0mcopy\u001b[0m\u001b[0;34m\u001b[0m\u001b[0;34m\u001b[0m\u001b[0m\n\u001b[1;32m    466\u001b[0m     )\n",
            "\u001b[0;32m/usr/local/lib/python3.8/dist-packages/pandas/core/internals/construction.py\u001b[0m in \u001b[0;36marrays_to_mgr\u001b[0;34m(arrays, arr_names, index, columns, dtype, verify_integrity, typ, consolidate)\u001b[0m\n\u001b[1;32m    117\u001b[0m         \u001b[0;31m# figure out the index, if necessary\u001b[0m\u001b[0;34m\u001b[0m\u001b[0;34m\u001b[0m\u001b[0;34m\u001b[0m\u001b[0m\n\u001b[1;32m    118\u001b[0m         \u001b[0;32mif\u001b[0m \u001b[0mindex\u001b[0m \u001b[0;32mis\u001b[0m \u001b[0;32mNone\u001b[0m\u001b[0;34m:\u001b[0m\u001b[0;34m\u001b[0m\u001b[0;34m\u001b[0m\u001b[0m\n\u001b[0;32m--> 119\u001b[0;31m             \u001b[0mindex\u001b[0m \u001b[0;34m=\u001b[0m \u001b[0m_extract_index\u001b[0m\u001b[0;34m(\u001b[0m\u001b[0marrays\u001b[0m\u001b[0;34m)\u001b[0m\u001b[0;34m\u001b[0m\u001b[0;34m\u001b[0m\u001b[0m\n\u001b[0m\u001b[1;32m    120\u001b[0m         \u001b[0;32melse\u001b[0m\u001b[0;34m:\u001b[0m\u001b[0;34m\u001b[0m\u001b[0;34m\u001b[0m\u001b[0m\n\u001b[1;32m    121\u001b[0m             \u001b[0mindex\u001b[0m \u001b[0;34m=\u001b[0m \u001b[0mensure_index\u001b[0m\u001b[0;34m(\u001b[0m\u001b[0mindex\u001b[0m\u001b[0;34m)\u001b[0m\u001b[0;34m\u001b[0m\u001b[0;34m\u001b[0m\u001b[0m\n",
            "\u001b[0;32m/usr/local/lib/python3.8/dist-packages/pandas/core/internals/construction.py\u001b[0m in \u001b[0;36m_extract_index\u001b[0;34m(data)\u001b[0m\n\u001b[1;32m    633\u001b[0m             \u001b[0mlengths\u001b[0m \u001b[0;34m=\u001b[0m \u001b[0mlist\u001b[0m\u001b[0;34m(\u001b[0m\u001b[0mset\u001b[0m\u001b[0;34m(\u001b[0m\u001b[0mraw_lengths\u001b[0m\u001b[0;34m)\u001b[0m\u001b[0;34m)\u001b[0m\u001b[0;34m\u001b[0m\u001b[0;34m\u001b[0m\u001b[0m\n\u001b[1;32m    634\u001b[0m             \u001b[0;32mif\u001b[0m \u001b[0mlen\u001b[0m\u001b[0;34m(\u001b[0m\u001b[0mlengths\u001b[0m\u001b[0;34m)\u001b[0m \u001b[0;34m>\u001b[0m \u001b[0;36m1\u001b[0m\u001b[0;34m:\u001b[0m\u001b[0;34m\u001b[0m\u001b[0;34m\u001b[0m\u001b[0m\n\u001b[0;32m--> 635\u001b[0;31m                 \u001b[0;32mraise\u001b[0m \u001b[0mValueError\u001b[0m\u001b[0;34m(\u001b[0m\u001b[0;34m\"All arrays must be of the same length\"\u001b[0m\u001b[0;34m)\u001b[0m\u001b[0;34m\u001b[0m\u001b[0;34m\u001b[0m\u001b[0m\n\u001b[0m\u001b[1;32m    636\u001b[0m \u001b[0;34m\u001b[0m\u001b[0m\n\u001b[1;32m    637\u001b[0m             \u001b[0;32mif\u001b[0m \u001b[0mhave_dicts\u001b[0m\u001b[0;34m:\u001b[0m\u001b[0;34m\u001b[0m\u001b[0;34m\u001b[0m\u001b[0m\n",
            "\u001b[0;31mValueError\u001b[0m: All arrays must be of the same length"
          ]
        }
      ]
    },
    {
      "cell_type": "code",
      "source": [
        "# Standardization\n",
        "mean, std = X_train_df.mean(), X_train_df.std()\n",
        "\n",
        "X_train_df   = (X_train_df - mean)/std\n",
        "X_test_df    = (X_test_df - mean)/std\n",
        "\n",
        "X_train = X_train_df.to_numpy()\n",
        "y_train = y_train_df.to_numpy()\n",
        "X_test = X_test_df.to_numpy()\n",
        "\n",
        "print(X_train.shape,y_train.shape,X_test.shape)"
      ],
      "metadata": {
        "colab": {
          "base_uri": "https://localhost:8080/"
        },
        "id": "AWnCHGvTYmwT",
        "outputId": "ab4a08ec-8131-4c82-b346-ee12d9dd6531"
      },
      "execution_count": null,
      "outputs": [
        {
          "output_type": "stream",
          "name": "stdout",
          "text": [
            "(10336032, 1) (10336032, 1) (10336032, 1)\n"
          ]
        }
      ]
    },
    {
      "cell_type": "code",
      "source": [
        "n_estimators      = 100    # Number of trees in random forest\n",
        "min_samples_split = 10     # Minimum number of samples required to split a node\n",
        "min_samples_leaf  = 4      # Minimum number of samples required at each leaf node\n",
        "max_features      = 'auto' # Number of features to consider at every split\n",
        "max_depth         = 25     # Maximum number of levels in tree\n",
        "bootstrap         = True   # Method of selecting samples for training each tree\n",
        "\n",
        "reg0 = RandomForestRegressor(n_estimators=n_estimators,\n",
        "                             min_samples_split=min_samples_split,\n",
        "                             min_samples_leaf=min_samples_leaf,\n",
        "                             max_features=max_features,\n",
        "                             max_depth=max_depth,\n",
        "                             bootstrap=bootstrap)\n",
        "\n",
        "rf_tas = reg0.fit(X_train,y_train)"
      ],
      "metadata": {
        "colab": {
          "base_uri": "https://localhost:8080/"
        },
        "id": "hhR7D2iXYttS",
        "outputId": "bdb5d008-4c7e-4390-b5d0-00731ce69403"
      },
      "execution_count": null,
      "outputs": [
        {
          "output_type": "stream",
          "name": "stderr",
          "text": [
            "<ipython-input-22-7ae8c9cf85b5>:15: DataConversionWarning: A column-vector y was passed when a 1d array was expected. Please change the shape of y to (n_samples,), for example using ravel().\n",
            "  rf_tas = reg0.fit(X_train,y_train)\n"
          ]
        }
      ]
    },
    {
      "cell_type": "code",
      "source": [
        "# Number of trees in random forest\n",
        "n_estimators = [int(x) for x in np.linspace(start = 100, stop = 300, num = 5)]\n",
        "\n",
        "# Number of features to consider at every split\n",
        "max_features = ['auto', 'sqrt']\n",
        "\n",
        "# Maximum number of levels in tree\n",
        "max_depth = [int(x) for x in np.linspace(5,55, num = 11)]\n",
        "max_depth.append(None)\n",
        "\n",
        "# Minimum number of samples required to split a node\n",
        "min_samples_split = [5, 10, 15, 25]\n",
        "\n",
        "# Minimum number of samples required at each leaf node\n",
        "min_samples_leaf = [4, 8, 12,16]\n",
        "\n",
        "# Method of selecting samples for training each tree\n",
        "bootstrap = [True, False]\n",
        "\n",
        "# Create the random grid\n",
        "random_grid = {'n_estimators': n_estimators,\n",
        "               'max_features': max_features,\n",
        "               'max_depth': max_depth,\n",
        "               'min_samples_split': min_samples_split,\n",
        "               'min_samples_leaf': min_samples_leaf,\n",
        "               'bootstrap': bootstrap}"
      ],
      "metadata": {
        "id": "P6sFaAaQYxnV"
      },
      "execution_count": null,
      "outputs": []
    },
    {
      "cell_type": "code",
      "source": [
        "print(random_grid)"
      ],
      "metadata": {
        "colab": {
          "base_uri": "https://localhost:8080/"
        },
        "id": "VDyl-zNaYyrh",
        "outputId": "74d8f51e-f606-4f68-fa65-e8ed13afcd91"
      },
      "execution_count": null,
      "outputs": [
        {
          "output_type": "stream",
          "name": "stdout",
          "text": [
            "{'n_estimators': [100, 150, 200, 250, 300], 'max_features': ['auto', 'sqrt'], 'max_depth': [5, 10, 15, 20, 25, 30, 35, 40, 45, 50, 55, None], 'min_samples_split': [5, 10, 15, 25], 'min_samples_leaf': [4, 8, 12, 16], 'bootstrap': [True, False]}\n"
          ]
        }
      ]
    },
    {
      "cell_type": "code",
      "source": [
        "reg0 = RandomForestRegressor(random_state=0)\n",
        "# perform cross validation\n",
        "rf_random0 = RandomizedSearchCV(estimator = reg0, param_distributions = random_grid, \n",
        "                                n_iter = 5, cv = 3, verbose=2, n_jobs = -1)\n",
        "#takes very long time\n",
        "rf_tas = rf_random0.fit(X_train,y_train)\n",
        "\n",
        "print(\"The best hyperparameters: \\n\",rf_tas.best_params_)"
      ],
      "metadata": {
        "colab": {
          "base_uri": "https://localhost:8080/"
        },
        "id": "SkrUPhZ-Y2dK",
        "outputId": "9458567f-14a2-4ffa-ae92-ad8f521ec72c"
      },
      "execution_count": null,
      "outputs": [
        {
          "output_type": "stream",
          "name": "stdout",
          "text": [
            "Fitting 3 folds for each of 5 candidates, totalling 15 fits\n"
          ]
        },
        {
          "output_type": "stream",
          "name": "stderr",
          "text": [
            "/usr/local/lib/python3.8/dist-packages/sklearn/model_selection/_search.py:926: DataConversionWarning: A column-vector y was passed when a 1d array was expected. Please change the shape of y to (n_samples,), for example using ravel().\n",
            "  self.best_estimator_.fit(X, y, **fit_params)\n"
          ]
        },
        {
          "output_type": "stream",
          "name": "stdout",
          "text": [
            "The best hyperparameters: \n",
            " {'n_estimators': 100, 'min_samples_split': 5, 'min_samples_leaf': 4, 'max_features': 'auto', 'max_depth': 25, 'bootstrap': True}\n"
          ]
        }
      ]
    },
    {
      "cell_type": "code",
      "source": [],
      "metadata": {
        "id": "sDhhaTD7e53f"
      },
      "execution_count": null,
      "outputs": []
    },
    {
      "cell_type": "code",
      "source": [
        "y_test_pre = rf_tas.predict(X_test)\n",
        "#y_test_pre = y_test_pre.reshape(y_test_pre.shape[0], 96, 144)\n",
        "\n",
        "y_test_pre = xr.Dataset(coords={'time': X_test_xr.time.values, \n",
        "                               'latitude': X_test_xr.X.values, \n",
        "                               'longitude': X_test_xr.Y.values},\n",
        "                        data_vars=dict(tas=(['time', 'latitude', 'longitude'], y_test_pre)))"
      ],
      "metadata": {
        "colab": {
          "base_uri": "https://localhost:8080/",
          "height": 496
        },
        "id": "rhKIOMXoY5aR",
        "outputId": "531d3c25-9bb6-449b-c874-ffbf945d3ad5"
      },
      "execution_count": null,
      "outputs": [
        {
          "output_type": "error",
          "ename": "ValueError",
          "evalue": "ignored",
          "traceback": [
            "\u001b[0;31m---------------------------------------------------------------------------\u001b[0m",
            "\u001b[0;31mValueError\u001b[0m                                Traceback (most recent call last)",
            "\u001b[0;32m/usr/local/lib/python3.8/dist-packages/xarray/core/variable.py\u001b[0m in \u001b[0;36mas_variable\u001b[0;34m(obj, name)\u001b[0m\n\u001b[1;32m    130\u001b[0m         \u001b[0;32mtry\u001b[0m\u001b[0;34m:\u001b[0m\u001b[0;34m\u001b[0m\u001b[0;34m\u001b[0m\u001b[0m\n\u001b[0;32m--> 131\u001b[0;31m             \u001b[0mobj\u001b[0m \u001b[0;34m=\u001b[0m \u001b[0mVariable\u001b[0m\u001b[0;34m(\u001b[0m\u001b[0;34m*\u001b[0m\u001b[0mobj\u001b[0m\u001b[0;34m)\u001b[0m\u001b[0;34m\u001b[0m\u001b[0;34m\u001b[0m\u001b[0m\n\u001b[0m\u001b[1;32m    132\u001b[0m         \u001b[0;32mexcept\u001b[0m \u001b[0;34m(\u001b[0m\u001b[0mTypeError\u001b[0m\u001b[0;34m,\u001b[0m \u001b[0mValueError\u001b[0m\u001b[0;34m)\u001b[0m \u001b[0;32mas\u001b[0m \u001b[0merror\u001b[0m\u001b[0;34m:\u001b[0m\u001b[0;34m\u001b[0m\u001b[0;34m\u001b[0m\u001b[0m\n",
            "\u001b[0;32m/usr/local/lib/python3.8/dist-packages/xarray/core/variable.py\u001b[0m in \u001b[0;36m__init__\u001b[0;34m(self, dims, data, attrs, encoding, fastpath)\u001b[0m\n\u001b[1;32m    366\u001b[0m         \u001b[0mself\u001b[0m\u001b[0;34m.\u001b[0m\u001b[0m_data\u001b[0m \u001b[0;34m=\u001b[0m \u001b[0mas_compatible_data\u001b[0m\u001b[0;34m(\u001b[0m\u001b[0mdata\u001b[0m\u001b[0;34m,\u001b[0m \u001b[0mfastpath\u001b[0m\u001b[0;34m=\u001b[0m\u001b[0mfastpath\u001b[0m\u001b[0;34m)\u001b[0m\u001b[0;34m\u001b[0m\u001b[0;34m\u001b[0m\u001b[0m\n\u001b[0;32m--> 367\u001b[0;31m         \u001b[0mself\u001b[0m\u001b[0;34m.\u001b[0m\u001b[0m_dims\u001b[0m \u001b[0;34m=\u001b[0m \u001b[0mself\u001b[0m\u001b[0;34m.\u001b[0m\u001b[0m_parse_dimensions\u001b[0m\u001b[0;34m(\u001b[0m\u001b[0mdims\u001b[0m\u001b[0;34m)\u001b[0m\u001b[0;34m\u001b[0m\u001b[0;34m\u001b[0m\u001b[0m\n\u001b[0m\u001b[1;32m    368\u001b[0m         \u001b[0mself\u001b[0m\u001b[0;34m.\u001b[0m\u001b[0m_attrs\u001b[0m \u001b[0;34m=\u001b[0m \u001b[0;32mNone\u001b[0m\u001b[0;34m\u001b[0m\u001b[0;34m\u001b[0m\u001b[0m\n",
            "\u001b[0;32m/usr/local/lib/python3.8/dist-packages/xarray/core/variable.py\u001b[0m in \u001b[0;36m_parse_dimensions\u001b[0;34m(self, dims)\u001b[0m\n\u001b[1;32m    663\u001b[0m         \u001b[0;32mif\u001b[0m \u001b[0mlen\u001b[0m\u001b[0;34m(\u001b[0m\u001b[0mdims\u001b[0m\u001b[0;34m)\u001b[0m \u001b[0;34m!=\u001b[0m \u001b[0mself\u001b[0m\u001b[0;34m.\u001b[0m\u001b[0mndim\u001b[0m\u001b[0;34m:\u001b[0m\u001b[0;34m\u001b[0m\u001b[0;34m\u001b[0m\u001b[0m\n\u001b[0;32m--> 664\u001b[0;31m             raise ValueError(\n\u001b[0m\u001b[1;32m    665\u001b[0m                 \u001b[0;34mf\"dimensions {dims} must have the same length as the \"\u001b[0m\u001b[0;34m\u001b[0m\u001b[0;34m\u001b[0m\u001b[0m\n",
            "\u001b[0;31mValueError\u001b[0m: dimensions ('time', 'latitude', 'longitude') must have the same length as the number of data dimensions, ndim=1",
            "\nDuring handling of the above exception, another exception occurred:\n",
            "\u001b[0;31mValueError\u001b[0m                                Traceback (most recent call last)",
            "\u001b[0;32m<ipython-input-31-c4e69c2cc035>\u001b[0m in \u001b[0;36m<module>\u001b[0;34m\u001b[0m\n\u001b[1;32m      2\u001b[0m \u001b[0;31m#y_test_pre = y_test_pre.reshape(y_test_pre.shape[0], 96, 144)\u001b[0m\u001b[0;34m\u001b[0m\u001b[0;34m\u001b[0m\u001b[0;34m\u001b[0m\u001b[0m\n\u001b[1;32m      3\u001b[0m \u001b[0;34m\u001b[0m\u001b[0m\n\u001b[0;32m----> 4\u001b[0;31m y_test_pre = xr.Dataset(coords={'time': X_test_xr.time.values, \n\u001b[0m\u001b[1;32m      5\u001b[0m                                \u001b[0;34m'latitude'\u001b[0m\u001b[0;34m:\u001b[0m \u001b[0mX_test_xr\u001b[0m\u001b[0;34m.\u001b[0m\u001b[0mX\u001b[0m\u001b[0;34m.\u001b[0m\u001b[0mvalues\u001b[0m\u001b[0;34m,\u001b[0m\u001b[0;34m\u001b[0m\u001b[0;34m\u001b[0m\u001b[0m\n\u001b[1;32m      6\u001b[0m                                'longitude': X_test_xr.Y.values},\n",
            "\u001b[0;32m/usr/local/lib/python3.8/dist-packages/xarray/core/dataset.py\u001b[0m in \u001b[0;36m__init__\u001b[0;34m(self, data_vars, coords, attrs)\u001b[0m\n\u001b[1;32m    603\u001b[0m             \u001b[0mcoords\u001b[0m \u001b[0;34m=\u001b[0m \u001b[0mcoords\u001b[0m\u001b[0;34m.\u001b[0m\u001b[0mvariables\u001b[0m\u001b[0;34m\u001b[0m\u001b[0;34m\u001b[0m\u001b[0m\n\u001b[1;32m    604\u001b[0m \u001b[0;34m\u001b[0m\u001b[0m\n\u001b[0;32m--> 605\u001b[0;31m         variables, coord_names, dims, indexes, _ = merge_data_and_coords(\n\u001b[0m\u001b[1;32m    606\u001b[0m             \u001b[0mdata_vars\u001b[0m\u001b[0;34m,\u001b[0m \u001b[0mcoords\u001b[0m\u001b[0;34m,\u001b[0m \u001b[0mcompat\u001b[0m\u001b[0;34m=\u001b[0m\u001b[0;34m\"broadcast_equals\"\u001b[0m\u001b[0;34m\u001b[0m\u001b[0;34m\u001b[0m\u001b[0m\n\u001b[1;32m    607\u001b[0m         )\n",
            "\u001b[0;32m/usr/local/lib/python3.8/dist-packages/xarray/core/merge.py\u001b[0m in \u001b[0;36mmerge_data_and_coords\u001b[0;34m(data_vars, coords, compat, join)\u001b[0m\n\u001b[1;32m    573\u001b[0m     \u001b[0mobjects\u001b[0m \u001b[0;34m=\u001b[0m \u001b[0;34m[\u001b[0m\u001b[0mdata_vars\u001b[0m\u001b[0;34m,\u001b[0m \u001b[0mcoords\u001b[0m\u001b[0;34m]\u001b[0m\u001b[0;34m\u001b[0m\u001b[0;34m\u001b[0m\u001b[0m\n\u001b[1;32m    574\u001b[0m     \u001b[0mexplicit_coords\u001b[0m \u001b[0;34m=\u001b[0m \u001b[0mcoords\u001b[0m\u001b[0;34m.\u001b[0m\u001b[0mkeys\u001b[0m\u001b[0;34m(\u001b[0m\u001b[0;34m)\u001b[0m\u001b[0;34m\u001b[0m\u001b[0;34m\u001b[0m\u001b[0m\n\u001b[0;32m--> 575\u001b[0;31m     return merge_core(\n\u001b[0m\u001b[1;32m    576\u001b[0m         \u001b[0mobjects\u001b[0m\u001b[0;34m,\u001b[0m\u001b[0;34m\u001b[0m\u001b[0;34m\u001b[0m\u001b[0m\n\u001b[1;32m    577\u001b[0m         \u001b[0mcompat\u001b[0m\u001b[0;34m,\u001b[0m\u001b[0;34m\u001b[0m\u001b[0;34m\u001b[0m\u001b[0m\n",
            "\u001b[0;32m/usr/local/lib/python3.8/dist-packages/xarray/core/merge.py\u001b[0m in \u001b[0;36mmerge_core\u001b[0;34m(objects, compat, join, combine_attrs, priority_arg, explicit_coords, indexes, fill_value)\u001b[0m\n\u001b[1;32m    753\u001b[0m         \u001b[0mcoerced\u001b[0m\u001b[0;34m,\u001b[0m \u001b[0mjoin\u001b[0m\u001b[0;34m=\u001b[0m\u001b[0mjoin\u001b[0m\u001b[0;34m,\u001b[0m \u001b[0mcopy\u001b[0m\u001b[0;34m=\u001b[0m\u001b[0;32mFalse\u001b[0m\u001b[0;34m,\u001b[0m \u001b[0mindexes\u001b[0m\u001b[0;34m=\u001b[0m\u001b[0mindexes\u001b[0m\u001b[0;34m,\u001b[0m \u001b[0mfill_value\u001b[0m\u001b[0;34m=\u001b[0m\u001b[0mfill_value\u001b[0m\u001b[0;34m\u001b[0m\u001b[0;34m\u001b[0m\u001b[0m\n\u001b[1;32m    754\u001b[0m     )\n\u001b[0;32m--> 755\u001b[0;31m     \u001b[0mcollected\u001b[0m \u001b[0;34m=\u001b[0m \u001b[0mcollect_variables_and_indexes\u001b[0m\u001b[0;34m(\u001b[0m\u001b[0maligned\u001b[0m\u001b[0;34m,\u001b[0m \u001b[0mindexes\u001b[0m\u001b[0;34m=\u001b[0m\u001b[0mindexes\u001b[0m\u001b[0;34m)\u001b[0m\u001b[0;34m\u001b[0m\u001b[0;34m\u001b[0m\u001b[0m\n\u001b[0m\u001b[1;32m    756\u001b[0m     \u001b[0mprioritized\u001b[0m \u001b[0;34m=\u001b[0m \u001b[0m_get_priority_vars_and_indexes\u001b[0m\u001b[0;34m(\u001b[0m\u001b[0maligned\u001b[0m\u001b[0;34m,\u001b[0m \u001b[0mpriority_arg\u001b[0m\u001b[0;34m,\u001b[0m \u001b[0mcompat\u001b[0m\u001b[0;34m=\u001b[0m\u001b[0mcompat\u001b[0m\u001b[0;34m)\u001b[0m\u001b[0;34m\u001b[0m\u001b[0;34m\u001b[0m\u001b[0m\n\u001b[1;32m    757\u001b[0m     variables, out_indexes = merge_collected(\n",
            "\u001b[0;32m/usr/local/lib/python3.8/dist-packages/xarray/core/merge.py\u001b[0m in \u001b[0;36mcollect_variables_and_indexes\u001b[0;34m(list_of_mappings, indexes)\u001b[0m\n\u001b[1;32m    363\u001b[0m                 \u001b[0mappend_all\u001b[0m\u001b[0;34m(\u001b[0m\u001b[0mcoords_\u001b[0m\u001b[0;34m,\u001b[0m \u001b[0mindexes_\u001b[0m\u001b[0;34m)\u001b[0m\u001b[0;34m\u001b[0m\u001b[0;34m\u001b[0m\u001b[0m\n\u001b[1;32m    364\u001b[0m \u001b[0;34m\u001b[0m\u001b[0m\n\u001b[0;32m--> 365\u001b[0;31m             \u001b[0mvariable\u001b[0m \u001b[0;34m=\u001b[0m \u001b[0mas_variable\u001b[0m\u001b[0;34m(\u001b[0m\u001b[0mvariable\u001b[0m\u001b[0;34m,\u001b[0m \u001b[0mname\u001b[0m\u001b[0;34m=\u001b[0m\u001b[0mname\u001b[0m\u001b[0;34m)\u001b[0m\u001b[0;34m\u001b[0m\u001b[0;34m\u001b[0m\u001b[0m\n\u001b[0m\u001b[1;32m    366\u001b[0m             \u001b[0;32mif\u001b[0m \u001b[0mname\u001b[0m \u001b[0;32min\u001b[0m \u001b[0mindexes\u001b[0m\u001b[0;34m:\u001b[0m\u001b[0;34m\u001b[0m\u001b[0;34m\u001b[0m\u001b[0m\n\u001b[1;32m    367\u001b[0m                 \u001b[0mappend\u001b[0m\u001b[0;34m(\u001b[0m\u001b[0mname\u001b[0m\u001b[0;34m,\u001b[0m \u001b[0mvariable\u001b[0m\u001b[0;34m,\u001b[0m \u001b[0mindexes\u001b[0m\u001b[0;34m[\u001b[0m\u001b[0mname\u001b[0m\u001b[0;34m]\u001b[0m\u001b[0;34m)\u001b[0m\u001b[0;34m\u001b[0m\u001b[0;34m\u001b[0m\u001b[0m\n",
            "\u001b[0;32m/usr/local/lib/python3.8/dist-packages/xarray/core/variable.py\u001b[0m in \u001b[0;36mas_variable\u001b[0;34m(obj, name)\u001b[0m\n\u001b[1;32m    132\u001b[0m         \u001b[0;32mexcept\u001b[0m \u001b[0;34m(\u001b[0m\u001b[0mTypeError\u001b[0m\u001b[0;34m,\u001b[0m \u001b[0mValueError\u001b[0m\u001b[0;34m)\u001b[0m \u001b[0;32mas\u001b[0m \u001b[0merror\u001b[0m\u001b[0;34m:\u001b[0m\u001b[0;34m\u001b[0m\u001b[0;34m\u001b[0m\u001b[0m\n\u001b[1;32m    133\u001b[0m             \u001b[0;31m# use .format() instead of % because it handles tuples consistently\u001b[0m\u001b[0;34m\u001b[0m\u001b[0;34m\u001b[0m\u001b[0;34m\u001b[0m\u001b[0m\n\u001b[0;32m--> 134\u001b[0;31m             raise error.__class__(\n\u001b[0m\u001b[1;32m    135\u001b[0m                 \u001b[0;34m\"Could not convert tuple of form \"\u001b[0m\u001b[0;34m\u001b[0m\u001b[0;34m\u001b[0m\u001b[0m\n\u001b[1;32m    136\u001b[0m                 \u001b[0;34m\"(dims, data[, attrs, encoding]): \"\u001b[0m\u001b[0;34m\u001b[0m\u001b[0;34m\u001b[0m\u001b[0m\n",
            "\u001b[0;31mValueError\u001b[0m: Could not convert tuple of form (dims, data[, attrs, encoding]): (['time', 'latitude', 'longitude'], array([5.20326474e-12, 5.20326474e-12, 5.20326474e-12, ...,\n       5.20326474e-12, 5.20326474e-12, 5.20326474e-12])) to Variable."
          ]
        }
      ]
    },
    {
      "cell_type": "code",
      "source": [
        "fig, axes = plt.subplots(figsize=(15,12),ncols=2,nrows=3)\n",
        "\n",
        "yrs = [2030, 2050, 2100]\n",
        "vmin, vmax    = -6, 6\n",
        "cmap = 'RdBu_r'\n",
        "y_test_pre.tas.sel(time=yrs[0]).plot(ax=axes[0,0], vmin=vmin, vmax=vmax,cmap=cmap)\n",
        "y_test_xr.tas.sel(time=yrs[0]).plot(ax=axes[0,1], vmin=vmin, vmax=vmax,cmap=cmap)\n",
        "\n",
        "y_test_pre.tas.sel(time=yrs[1]).plot(ax=axes[1,0], vmin=vmin, vmax=vmax,cmap=cmap)\n",
        "y_test_xr.tas.sel(time=yrs[1]).plot(ax=axes[1,1], vmin=vmin, vmax=vmax,cmap=cmap)\n",
        "\n",
        "y_test_pre.tas.sel(time=yrs[2]).plot(ax=axes[2,0], vmin=vmin, vmax=vmax,cmap=cmap)\n",
        "y_test_xr.tas.sel(time=yrs[2]).plot(ax=axes[2,1], vmin=vmin, vmax=vmax,cmap=cmap)\n",
        "\n",
        "\n",
        "for i, ax in enumerate(axes.flat):\n",
        "    # left column: model prediction\n",
        "    if i % 2 == 0:\n",
        "        ax.set_title(f'tas model prediction (year = {yrs[i//2]})',fontweight='bold')\n",
        "    # right column: truth tas from ssp245 simulations\n",
        "    else:\n",
        "        ax.set_title(f'tas truth (year = {yrs[i//2]})',fontweight='bold')\n",
        "plt.tight_layout()"
      ],
      "metadata": {
        "colab": {
          "base_uri": "https://localhost:8080/",
          "height": 926
        },
        "id": "hioP7oMcZFMZ",
        "outputId": "9e73488b-9da0-4df2-ad1f-1aa9be3e24b5"
      },
      "execution_count": null,
      "outputs": [
        {
          "output_type": "error",
          "ename": "NameError",
          "evalue": "ignored",
          "traceback": [
            "\u001b[0;31m---------------------------------------------------------------------------\u001b[0m",
            "\u001b[0;31mNameError\u001b[0m                                 Traceback (most recent call last)",
            "\u001b[0;32m<ipython-input-17-05d2fb32273b>\u001b[0m in \u001b[0;36m<module>\u001b[0;34m\u001b[0m\n\u001b[1;32m      4\u001b[0m \u001b[0mvmin\u001b[0m\u001b[0;34m,\u001b[0m \u001b[0mvmax\u001b[0m    \u001b[0;34m=\u001b[0m \u001b[0;34m-\u001b[0m\u001b[0;36m6\u001b[0m\u001b[0;34m,\u001b[0m \u001b[0;36m6\u001b[0m\u001b[0;34m\u001b[0m\u001b[0;34m\u001b[0m\u001b[0m\n\u001b[1;32m      5\u001b[0m \u001b[0mcmap\u001b[0m \u001b[0;34m=\u001b[0m \u001b[0;34m'RdBu_r'\u001b[0m\u001b[0;34m\u001b[0m\u001b[0;34m\u001b[0m\u001b[0m\n\u001b[0;32m----> 6\u001b[0;31m \u001b[0my_test_pre\u001b[0m\u001b[0;34m.\u001b[0m\u001b[0mtas\u001b[0m\u001b[0;34m.\u001b[0m\u001b[0msel\u001b[0m\u001b[0;34m(\u001b[0m\u001b[0mtime\u001b[0m\u001b[0;34m=\u001b[0m\u001b[0myrs\u001b[0m\u001b[0;34m[\u001b[0m\u001b[0;36m0\u001b[0m\u001b[0;34m]\u001b[0m\u001b[0;34m)\u001b[0m\u001b[0;34m.\u001b[0m\u001b[0mplot\u001b[0m\u001b[0;34m(\u001b[0m\u001b[0max\u001b[0m\u001b[0;34m=\u001b[0m\u001b[0maxes\u001b[0m\u001b[0;34m[\u001b[0m\u001b[0;36m0\u001b[0m\u001b[0;34m,\u001b[0m\u001b[0;36m0\u001b[0m\u001b[0;34m]\u001b[0m\u001b[0;34m,\u001b[0m \u001b[0mvmin\u001b[0m\u001b[0;34m=\u001b[0m\u001b[0mvmin\u001b[0m\u001b[0;34m,\u001b[0m \u001b[0mvmax\u001b[0m\u001b[0;34m=\u001b[0m\u001b[0mvmax\u001b[0m\u001b[0;34m,\u001b[0m\u001b[0mcmap\u001b[0m\u001b[0;34m=\u001b[0m\u001b[0mcmap\u001b[0m\u001b[0;34m)\u001b[0m\u001b[0;34m\u001b[0m\u001b[0;34m\u001b[0m\u001b[0m\n\u001b[0m\u001b[1;32m      7\u001b[0m \u001b[0my_test_xr\u001b[0m\u001b[0;34m.\u001b[0m\u001b[0mtas\u001b[0m\u001b[0;34m.\u001b[0m\u001b[0msel\u001b[0m\u001b[0;34m(\u001b[0m\u001b[0mtime\u001b[0m\u001b[0;34m=\u001b[0m\u001b[0myrs\u001b[0m\u001b[0;34m[\u001b[0m\u001b[0;36m0\u001b[0m\u001b[0;34m]\u001b[0m\u001b[0;34m)\u001b[0m\u001b[0;34m.\u001b[0m\u001b[0mplot\u001b[0m\u001b[0;34m(\u001b[0m\u001b[0max\u001b[0m\u001b[0;34m=\u001b[0m\u001b[0maxes\u001b[0m\u001b[0;34m[\u001b[0m\u001b[0;36m0\u001b[0m\u001b[0;34m,\u001b[0m\u001b[0;36m1\u001b[0m\u001b[0;34m]\u001b[0m\u001b[0;34m,\u001b[0m \u001b[0mvmin\u001b[0m\u001b[0;34m=\u001b[0m\u001b[0mvmin\u001b[0m\u001b[0;34m,\u001b[0m \u001b[0mvmax\u001b[0m\u001b[0;34m=\u001b[0m\u001b[0mvmax\u001b[0m\u001b[0;34m,\u001b[0m\u001b[0mcmap\u001b[0m\u001b[0;34m=\u001b[0m\u001b[0mcmap\u001b[0m\u001b[0;34m)\u001b[0m\u001b[0;34m\u001b[0m\u001b[0;34m\u001b[0m\u001b[0m\n\u001b[1;32m      8\u001b[0m \u001b[0;34m\u001b[0m\u001b[0m\n",
            "\u001b[0;31mNameError\u001b[0m: name 'y_test_pre' is not defined"
          ]
        },
        {
          "output_type": "display_data",
          "data": {
            "text/plain": [
              "<Figure size 1080x864 with 6 Axes>"
            ],
            "image/png": "[encoded data removed]"
          },
          "metadata": {
            "image/png": {
              "width": 882,
              "height": 686
            },
            "needs_background": "light"
          }
        }
      ]
    }
  ]
}