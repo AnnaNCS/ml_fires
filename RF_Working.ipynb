{
  "nbformat": 4,
  "nbformat_minor": 0,
  "metadata": {
    "colab": {
      "provenance": []
    },
    "kernelspec": {
      "name": "python3",
      "display_name": "Python 3"
    },
    "language_info": {
      "name": "python"
    },
    "accelerator": "GPU",
    "gpuClass": "standard"
  },
  "cells": [
    {
      "cell_type": "code",
      "source": [
        "import os\n",
        "import numpy as np\n",
        "import pandas as pd\n",
        "import matplotlib.pyplot as plt\n",
        "import xarray as xr\n",
        "from glob import glob\n",
        "\n",
        "#connect the google drive to download and upload data\n",
        "from google.colab import drive\n",
        "drive.mount('/content/drive')\n",
        "#set the path to the drive data folder\n",
        "directoryTrain = '/content/drive/MyDrive/MLFall2022/CurrentProject/data'\n",
        "#directoryTest = '/content/drive/MyDrive/MLFall2022/CurrentProject/dataRF/test/'"
      ],
      "metadata": {
        "colab": {
          "base_uri": "https://localhost:8080/"
        },
        "id": "lmjU5kbR9jsm",
        "outputId": "7a275a46-242b-4b25-d4bc-e6a8e52ecdbe"
      },
      "execution_count": 1,
      "outputs": [
        {
          "output_type": "stream",
          "name": "stdout",
          "text": [
            "Mounted at /content/drive\n"
          ]
        }
      ]
    },
    {
      "cell_type": "code",
      "source": [
        "from sklearn.ensemble import RandomForestRegressor \n",
        "from sklearn.model_selection import RandomizedSearchCV\n",
        "\n",
        "%matplotlib inline\n",
        "%config InlineBackend.figure_format = 'retina'\n",
        "%load_ext autoreload\n",
        "%autoreload 2\n",
        "\n",
        "plt.rcParams['savefig.dpi'] = 400\n",
        "plt.rcParams['font.size'] = 13\n",
        "plt.rcParams[\"legend.frameon\"] = False"
      ],
      "metadata": {
        "id": "g7BirTij9LFy"
      },
      "execution_count": 2,
      "outputs": []
    },
    {
      "cell_type": "code",
      "source": [
        "burnarea_combined = xr.open_dataset(os.path.join(directoryTrain, \"burnarea_combined.nc\"))\n",
        "#print(burnarea_combined)\n",
        "\n",
        "#data = xr.open_dataset(os.path.join(directoryTrain, \"forest_type_frac.nc\"))\n",
        "#print(data.dims)\n",
        "\n",
        "#data = xr.open_dataset(os.path.join(directoryTrain, \"epa_level2.nc\"))\n",
        "#print(data.dims)\n",
        "\n",
        "tmax = xr.open_dataset(os.path.join(directoryTrain, \"tmax.nc\"))\n",
        "#print(tmax.dims)\n",
        "\n",
        "prec = xr.open_dataset(os.path.join(directoryTrain, \"prec.nc\"))\n",
        "#print(prec.dims)\n",
        "\n",
        "wind = xr.open_dataset(os.path.join(directoryTrain, \"wind.nc\"))\n",
        "#print(wind.dims)\n",
        "\n",
        "##data = xr.open_dataset(os.path.join(directoryTrain, \"elevstd.nc\"))\n",
        "#print(data.dims)\n",
        "\n",
        "#data = xr.open_dataset(os.path.join(directoryTrain, \"wui_distance.nc\"))\n",
        "#print(data.dims)\n",
        "\n",
        "#burnarea_combined = burnarea_combined.burnarea.loc[firsttime:finaltime]\n",
        "#print(burnarea_combined.dims)\n",
        "\n",
        "air = burnarea_combined[\"burnarea\"]\n",
        "air.isel(time=215).plot(x=\"X\", y=\"Y\")\n",
        "\n",
        "firsttime = \"1984-01-15\"\n",
        "middletime = \"2001-12-15\"\n",
        "middelstarttime = \"2002-01-15\"\n",
        "finaltime = \"2019-12-15\"\n",
        "\n",
        "#gotta split the data to train and test before merging and stacking\n",
        "\n",
        "#print(burnarea_combined.burnarea[\"time\"].isel(time = \"2019-12-15\"))\n",
        "#print(burnarea_combined.time[431])\n",
        "\n",
        "#TRAIN SLICES\n",
        "burnarea_combined_train = burnarea_combined.sel(time=slice(firsttime, middletime))\n",
        "print(burnarea_combined_train)\n",
        "\n",
        "tmax_train = tmax.sel(time=slice(firsttime, middletime))\n",
        "print(tmax_train)\n",
        "\n",
        "prec_train = prec.sel(time=slice(firsttime, middletime))\n",
        "print(prec_train)\n",
        "\n",
        "wind_train = wind.sel(time=slice(firsttime, middletime))\n",
        "print(wind_train)\n",
        "\n",
        "#TEST SLICES\n",
        "burnarea_combined_test = burnarea_combined.sel(time=slice(middelstarttime, finaltime))\n",
        "print(burnarea_combined_test)\n",
        "\n",
        "tmax_test = tmax.sel(time=slice(middelstarttime, finaltime))\n",
        "print(tmax_test)\n",
        "\n",
        "prec_test = prec.sel(time=slice(middelstarttime, finaltime))\n",
        "print(prec_test)\n",
        "\n",
        "wind_test = wind.sel(time=slice(middelstarttime, finaltime))\n",
        "print(wind_test)\n"
      ],
      "metadata": {
        "colab": {
          "base_uri": "https://localhost:8080/",
          "height": 1000
        },
        "id": "oDgTG3GPKXkd",
        "outputId": "754af471-7711-4785-e3f8-e00619cd94c1"
      },
      "execution_count": 3,
      "outputs": [
        {
          "output_type": "stream",
          "name": "stdout",
          "text": [
            "<xarray.Dataset>\n",
            "Dimensions:   (X: 155, Y: 208, time: 216)\n",
            "Coordinates:\n",
            "  * X         (X) float64 -2.349e+06 -2.337e+06 ... -5.132e+05 -5.012e+05\n",
            "  * Y         (Y) float64 3.166e+06 3.154e+06 3.142e+06 ... 6.945e+05 6.825e+05\n",
            "  * time      (time) datetime64[ns] 1984-01-15 1984-02-15 ... 2001-12-15\n",
            "Data variables:\n",
            "    burnarea  (time, Y, X) float32 ...\n",
            "<xarray.Dataset>\n",
            "Dimensions:  (X: 155, Y: 208, time: 216)\n",
            "Coordinates:\n",
            "  * X        (X) float64 -2.349e+06 -2.337e+06 ... -5.132e+05 -5.012e+05\n",
            "  * Y        (Y) float64 3.166e+06 3.154e+06 3.142e+06 ... 6.945e+05 6.825e+05\n",
            "  * time     (time) datetime64[ns] 1984-01-15 1984-02-15 ... 2001-12-15\n",
            "Data variables:\n",
            "    tmax     (time, Y, X) float32 ...\n",
            "<xarray.Dataset>\n",
            "Dimensions:  (X: 155, Y: 208, time: 216)\n",
            "Coordinates:\n",
            "  * X        (X) float64 -2.349e+06 -2.337e+06 ... -5.132e+05 -5.012e+05\n",
            "  * Y        (Y) float64 3.166e+06 3.154e+06 3.142e+06 ... 6.945e+05 6.825e+05\n",
            "  * time     (time) datetime64[ns] 1984-01-15 1984-02-15 ... 2001-12-15\n",
            "Data variables:\n",
            "    prec     (time, Y, X) float32 ...\n",
            "<xarray.Dataset>\n",
            "Dimensions:  (X: 155, Y: 208, time: 216)\n",
            "Coordinates:\n",
            "  * X        (X) float64 -2.349e+06 -2.337e+06 ... -5.132e+05 -5.012e+05\n",
            "  * Y        (Y) float64 3.166e+06 3.154e+06 3.142e+06 ... 6.945e+05 6.825e+05\n",
            "  * time     (time) datetime64[ns] 1984-01-15 1984-02-15 ... 2001-12-15\n",
            "Data variables:\n",
            "    wind     (time, Y, X) float32 ...\n",
            "<xarray.Dataset>\n",
            "Dimensions:   (X: 155, Y: 208, time: 216)\n",
            "Coordinates:\n",
            "  * X         (X) float64 -2.349e+06 -2.337e+06 ... -5.132e+05 -5.012e+05\n",
            "  * Y         (Y) float64 3.166e+06 3.154e+06 3.142e+06 ... 6.945e+05 6.825e+05\n",
            "  * time      (time) datetime64[ns] 2002-01-15 2002-02-15 ... 2019-12-15\n",
            "Data variables:\n",
            "    burnarea  (time, Y, X) float32 ...\n",
            "<xarray.Dataset>\n",
            "Dimensions:  (X: 155, Y: 208, time: 216)\n",
            "Coordinates:\n",
            "  * X        (X) float64 -2.349e+06 -2.337e+06 ... -5.132e+05 -5.012e+05\n",
            "  * Y        (Y) float64 3.166e+06 3.154e+06 3.142e+06 ... 6.945e+05 6.825e+05\n",
            "  * time     (time) datetime64[ns] 2002-01-15 2002-02-15 ... 2019-12-15\n",
            "Data variables:\n",
            "    tmax     (time, Y, X) float32 ...\n",
            "<xarray.Dataset>\n",
            "Dimensions:  (X: 155, Y: 208, time: 216)\n",
            "Coordinates:\n",
            "  * X        (X) float64 -2.349e+06 -2.337e+06 ... -5.132e+05 -5.012e+05\n",
            "  * Y        (Y) float64 3.166e+06 3.154e+06 3.142e+06 ... 6.945e+05 6.825e+05\n",
            "  * time     (time) datetime64[ns] 2002-01-15 2002-02-15 ... 2019-12-15\n",
            "Data variables:\n",
            "    prec     (time, Y, X) float32 ...\n",
            "<xarray.Dataset>\n",
            "Dimensions:  (X: 155, Y: 208, time: 216)\n",
            "Coordinates:\n",
            "  * X        (X) float64 -2.349e+06 -2.337e+06 ... -5.132e+05 -5.012e+05\n",
            "  * Y        (Y) float64 3.166e+06 3.154e+06 3.142e+06 ... 6.945e+05 6.825e+05\n",
            "  * time     (time) datetime64[ns] 2002-01-15 2002-02-15 ... 2019-12-15\n",
            "Data variables:\n",
            "    wind     (time, Y, X) float32 ...\n"
          ]
        },
        {
          "output_type": "display_data",
          "data": {
            "text/plain": [
              "<Figure size 432x288 with 2 Axes>"
            ],
            "image/png": "[encoded data removed]"
          },
          "metadata": {
            "image/png": {
              "width": 401,
              "height": 286
            },
            "needs_background": "light"
          }
        }
      ]
    },
    {
      "cell_type": "code",
      "source": [
        "### LAT = X and LONG = Y \n",
        "\n",
        "# Training set\n",
        "train_files = [burnarea_combined_train, tmax_train, prec_train, wind_train]\n",
        "#X_train_xr, X_length  = prepare_predictor(train_files)\n",
        " \n",
        "X_all      = []\n",
        "length_all = []\n",
        "    \n",
        "for ds in train_files:\n",
        "  X_all.append(ds)\n",
        "  length_all.append(len(ds.time))\n",
        "\n",
        "#print(X_all)\n",
        "    \n",
        "X = xr.merge(X_all)\n",
        "length_all = np.array(length_all)\n",
        "\n",
        "X = X.assign_coords(time=np.arange(len(X.time)))\n",
        "\n",
        "X_train_xr = X\n",
        "X_length = length_all\n",
        "\n",
        "print(X_train_xr)\n",
        "\n",
        "#y_train_xr, y_length  = prepare_predictand(train_files,directoryTrain)\n",
        "\n",
        "Y_all = []\n",
        "length_all = []\n",
        "    \n",
        "for dsy in train_files:\n",
        "  Y_all.append(dsy)\n",
        "  length_all.append(len(dsy.time))\n",
        "    \n",
        "length_all = np.array(length_all)\n",
        "Y = xr.merge(Y_all)\n",
        "Y = Y.rename({'Y':'longitude','X': 'latitude'})\n",
        "Y = Y.transpose('time', 'latitude', 'longitude') \n",
        "  \n",
        "Y = Y.assign_coords(time=np.arange(len(Y.time)))\n",
        "    \n",
        "y_train_xr = Y \n",
        "y_length = length_all"
      ],
      "metadata": {
        "colab": {
          "base_uri": "https://localhost:8080/"
        },
        "id": "6Sxc0lWc7XJ_",
        "outputId": "551d787e-7048-4b63-dff4-d09ff3a34a5b"
      },
      "execution_count": 4,
      "outputs": [
        {
          "output_type": "stream",
          "name": "stdout",
          "text": [
            "<xarray.Dataset>\n",
            "Dimensions:   (X: 155, Y: 208, time: 216)\n",
            "Coordinates:\n",
            "  * X         (X) float64 -2.349e+06 -2.337e+06 ... -5.132e+05 -5.012e+05\n",
            "  * Y         (Y) float64 3.166e+06 3.154e+06 3.142e+06 ... 6.945e+05 6.825e+05\n",
            "  * time      (time) int64 0 1 2 3 4 5 6 7 8 ... 208 209 210 211 212 213 214 215\n",
            "Data variables:\n",
            "    burnarea  (time, Y, X) float32 ...\n",
            "    tmax      (time, Y, X) float32 ...\n",
            "    prec      (time, Y, X) float32 ...\n",
            "    wind      (time, Y, X) float32 ...\n"
          ]
        }
      ]
    },
    {
      "cell_type": "code",
      "source": [
        "# Test set\n",
        "#X_test_xr, _ = prepare_predictor('ssp245', data_path=directoryTest,time_reindex=False)\n",
        "#y_test_xr, _ = prepare_predictand('ssp245',data_path=directoryTest,time_reindex=False)\n",
        "\n",
        "# Train set\n",
        "train_files = [burnarea_combined_test, tmax_test, prec_test, wind_test]\n",
        "#X_train_xr, X_length  = prepare_predictor(train_files)\n",
        " \n",
        "X_all      = []\n",
        "length_all = []\n",
        "    \n",
        "for ds in train_files:\n",
        "  X_all.append(ds)\n",
        "  length_all.append(len(ds.time))\n",
        "\n",
        "#print(X_all)\n",
        "    \n",
        "X = xr.merge(X_all)\n",
        "length_all = np.array(length_all)\n",
        "\n",
        "#NEED TO HAVE A DIFF ORDER OF DIMENSIONS \n",
        "#time, Y, X \n",
        "X = X[['time', 'Y', 'X', 'burnarea', 'tmax', 'prec', 'wind' ]] #not what we need, we need to change the shape \n",
        "\n",
        "X = X.assign_coords(time=np.arange(len(X.time)))\n",
        "\n",
        "X_test_xr = X\n",
        "X_length = length_all\n",
        "\n",
        "print(X_test_xr)\n",
        "\n",
        "#y_train_xr, y_length  = prepare_predictand(train_files,directoryTrain)\n",
        "\n",
        "Y_all = []\n",
        "length_all = []\n",
        "    \n",
        "for dsy in train_files:\n",
        "  Y_all.append(dsy)\n",
        "  length_all.append(len(dsy.time))\n",
        "    \n",
        "length_all = np.array(length_all)\n",
        "Y = xr.merge(Y_all)\n",
        "Y = Y.rename({'Y':'longitude','X': 'latitude'})\n",
        "Y = Y.transpose('time', 'latitude', 'longitude') \n",
        "  \n",
        "Y = Y.assign_coords(time=np.arange(len(Y.time)))\n",
        "    \n",
        "y_test_xr = Y \n",
        "y_length = length_all\n",
        "\n",
        "print(y_test_xr)"
      ],
      "metadata": {
        "id": "BfwvjPxhJb7g",
        "colab": {
          "base_uri": "https://localhost:8080/"
        },
        "outputId": "644db01b-5ae5-4650-8f18-748d1e686195"
      },
      "execution_count": 6,
      "outputs": [
        {
          "output_type": "stream",
          "name": "stdout",
          "text": [
            "<xarray.Dataset>\n",
            "Dimensions:   (time: 216, Y: 208, X: 155)\n",
            "Coordinates:\n",
            "  * time      (time) int64 0 1 2 3 4 5 6 7 8 ... 208 209 210 211 212 213 214 215\n",
            "  * Y         (Y) float64 3.166e+06 3.154e+06 3.142e+06 ... 6.945e+05 6.825e+05\n",
            "  * X         (X) float64 -2.349e+06 -2.337e+06 ... -5.132e+05 -5.012e+05\n",
            "Data variables:\n",
            "    burnarea  (time, Y, X) float32 ...\n",
            "    tmax      (time, Y, X) float32 ...\n",
            "    prec      (time, Y, X) float32 ...\n",
            "    wind      (time, Y, X) float32 ...\n",
            "<xarray.Dataset>\n",
            "Dimensions:    (latitude: 155, longitude: 208, time: 216)\n",
            "Coordinates:\n",
            "  * latitude   (latitude) float64 -2.349e+06 -2.337e+06 ... -5.012e+05\n",
            "  * longitude  (longitude) float64 3.166e+06 3.154e+06 ... 6.945e+05 6.825e+05\n",
            "  * time       (time) int64 0 1 2 3 4 5 6 7 ... 208 209 210 211 212 213 214 215\n",
            "Data variables:\n",
            "    burnarea   (time, latitude, longitude) float32 ...\n",
            "    tmax       (time, latitude, longitude) float32 ...\n",
            "    prec       (time, latitude, longitude) float32 ...\n",
            "    wind       (time, latitude, longitude) float32 ...\n"
          ]
        }
      ]
    },
    {
      "cell_type": "code",
      "source": [
        "X_train_df = X_train_xr.to_dataframe().dropna()\n",
        "\n",
        "X_test_df  = X_test_xr.to_dataframe().dropna()\n",
        "\n",
        "print(y_train_xr)\n",
        "print(\"pass\\n\")\n",
        "\n",
        "y_train_df = y_train_xr.stack(dim=[\"latitude\", \"longitude\"])\n",
        "print(y_train_df)\n",
        "print(\"pass\\n\")\n",
        "\n",
        "y_train_df = y_train_df.to_dataframe().dropna()\n",
        "print(y_train_df)\n",
        "print(\"pass\")\n"
      ],
      "metadata": {
        "id": "qRcGHde_JjqC",
        "colab": {
          "base_uri": "https://localhost:8080/"
        },
        "outputId": "fd7123a8-0337-4dc8-83cb-c5038cfd3781"
      },
      "execution_count": 7,
      "outputs": [
        {
          "output_type": "stream",
          "name": "stdout",
          "text": [
            "<xarray.Dataset>\n",
            "Dimensions:    (latitude: 155, longitude: 208, time: 216)\n",
            "Coordinates:\n",
            "  * latitude   (latitude) float64 -2.349e+06 -2.337e+06 ... -5.012e+05\n",
            "  * longitude  (longitude) float64 3.166e+06 3.154e+06 ... 6.945e+05 6.825e+05\n",
            "  * time       (time) int64 0 1 2 3 4 5 6 7 ... 208 209 210 211 212 213 214 215\n",
            "Data variables:\n",
            "    burnarea   (time, latitude, longitude) float32 ...\n",
            "    tmax       (time, latitude, longitude) float32 ...\n",
            "    prec       (time, latitude, longitude) float32 ...\n",
            "    wind       (time, latitude, longitude) float32 ...\n",
            "pass\n",
            "\n",
            "<xarray.Dataset>\n",
            "Dimensions:    (time: 216, dim: 32240)\n",
            "Coordinates:\n",
            "  * time       (time) int64 0 1 2 3 4 5 6 7 ... 208 209 210 211 212 213 214 215\n",
            "  * dim        (dim) object MultiIndex\n",
            "  * latitude   (dim) float64 -2.349e+06 -2.349e+06 ... -5.012e+05 -5.012e+05\n",
            "  * longitude  (dim) float64 3.166e+06 3.154e+06 ... 6.945e+05 6.825e+05\n",
            "Data variables:\n",
            "    burnarea   (time, dim) float32 nan nan nan nan nan ... 0.0 nan nan nan nan\n",
            "    tmax       (time, dim) float32 nan nan nan nan nan ... 17.8 nan nan nan nan\n",
            "    prec       (time, dim) float32 nan nan nan nan nan ... 6.89 nan nan nan nan\n",
            "    wind       (time, dim) float32 nan nan nan nan nan ... 2.59 nan nan nan nan\n",
            "pass\n",
            "\n",
            "                           burnarea       tmax       prec  wind   latitude  \\\n",
            "time latitude   longitude                                                    \n",
            "0    -2349250.0 2302500.0       0.0  12.990000  33.060001  3.22 -2349250.0   \n",
            "                2290500.0       0.0  13.190000  35.169998  2.55 -2349250.0   \n",
            "                2278500.0       0.0  13.340000  36.840000  2.81 -2349250.0   \n",
            "                2266500.0       0.0  12.750000  35.540001  2.35 -2349250.0   \n",
            "                2254500.0       0.0  13.200000  36.270000  2.34 -2349250.0   \n",
            "...                             ...        ...        ...   ...        ...   \n",
            "215  -501250.0  778500.0        0.0  16.889999   3.820000  2.69  -501250.0   \n",
            "                766500.0        0.0  16.930000   4.200000  2.62  -501250.0   \n",
            "                754500.0        0.0  16.780001   5.220000  2.53  -501250.0   \n",
            "                742500.0        0.0  17.459999   6.480000  2.59  -501250.0   \n",
            "                730500.0        0.0  17.799999   6.890000  2.59  -501250.0   \n",
            "\n",
            "                           longitude  \n",
            "time latitude   longitude             \n",
            "0    -2349250.0 2302500.0  2302500.0  \n",
            "                2290500.0  2290500.0  \n",
            "                2278500.0  2278500.0  \n",
            "                2266500.0  2266500.0  \n",
            "                2254500.0  2254500.0  \n",
            "...                              ...  \n",
            "215  -501250.0  778500.0    778500.0  \n",
            "                766500.0    766500.0  \n",
            "                754500.0    754500.0  \n",
            "                742500.0    742500.0  \n",
            "                730500.0    730500.0  \n",
            "\n",
            "[5167152 rows x 6 columns]\n",
            "pass\n"
          ]
        }
      ]
    },
    {
      "cell_type": "code",
      "source": [
        "# Standardization\n",
        "mean, std = X_train_df.mean(), X_train_df.std()\n",
        "\n",
        "X_train_df   = (X_train_df - mean)/std\n",
        "X_test_df    = (X_test_df - mean)/std\n",
        "\n",
        "X_train = X_train_df.to_numpy()\n",
        "y_train = y_train_df.to_numpy()\n",
        "X_test = X_test_df.to_numpy()\n",
        "\n",
        "print(X_train.shape,y_train.shape,X_test.shape)"
      ],
      "metadata": {
        "colab": {
          "base_uri": "https://localhost:8080/"
        },
        "id": "rxJwCBREM9gk",
        "outputId": "23a74090-5361-4150-9f25-d499a63d7ea8"
      },
      "execution_count": 8,
      "outputs": [
        {
          "output_type": "stream",
          "name": "stdout",
          "text": [
            "(5167152, 4) (5167152, 6) (5167152, 4)\n"
          ]
        }
      ]
    },
    {
      "cell_type": "code",
      "source": [
        "n_estimators      = 5      # Number of trees in random forest\n",
        "min_samples_split = 10     # Minimum number of samples required to split a node\n",
        "min_samples_leaf  = 4      # Minimum number of samples required at each leaf node\n",
        "max_features      = 'auto' # Number of features to consider at every split\n",
        "max_depth         = 25     # Maximum number of levels in tree\n",
        "bootstrap         = True   # Method of selecting samples for training each tree\n",
        "\n",
        "reg0 = RandomForestRegressor(n_estimators=n_estimators,\n",
        "                             min_samples_split=min_samples_split,\n",
        "                             min_samples_leaf=min_samples_leaf,\n",
        "                             max_features=max_features,\n",
        "                             max_depth=max_depth,\n",
        "                             bootstrap=bootstrap)\n",
        "\n",
        "rf_tas = reg0.fit(X_train,y_train)\n",
        "\n",
        "#number of estimators 100 ran for 1:10+ hours \n",
        "#number of estimators 40 ran for long as well \n",
        "#number lowered to 5 also ran very long time, meaning we need to fix the data, but it did finsih running with GPU "
      ],
      "metadata": {
        "id": "g2r8DPBJNBds"
      },
      "execution_count": 9,
      "outputs": []
    },
    {
      "cell_type": "code",
      "source": [
        "#in the exmaple code, the regressor particularly improves the code, after running it 3 times, with improved parameters, \n",
        "#the results and accuracy have been improved. The final at the moment parameters were set to: \n",
        "#n_estimators      = 300    \n",
        "#min_samples_split = 25     \n",
        "#min_samples_leaf  = 4      \n",
        "#max_features      = 'sqrt' \n",
        "#max_depth         = 20     \n",
        "#bootstrap         = True   "
      ],
      "metadata": {
        "id": "WQSZLL0qpnv_"
      },
      "execution_count": null,
      "outputs": []
    },
    {
      "cell_type": "code",
      "source": [
        "### EXTRA SOURCE ###\n",
        "#https://colab.research.google.com/github/ritchieng/deep-learning-wizard/blob/master/docs/machine_learning/gpu/rapids_cudf.ipynb#scrollTo=qZyMvAQp6iwB\n",
        "# intall miniconda\n",
        "!wget -c https://repo.continuum.io/miniconda/Miniconda3-4.5.4-Linux-x86_64.sh\n",
        "!chmod +x Miniconda3-4.5.4-Linux-x86_64.sh\n",
        "!bash ./Miniconda3-4.5.4-Linux-x86_64.sh -b -f -p /usr/local\n",
        "\n",
        "# install RAPIDS packages\n",
        "!conda install -q -y --prefix /usr/local -c conda-forge \\\n",
        "  -c rapidsai-nightly/label/cuda10.0 -c nvidia/label/cuda10.0 \\\n",
        "  cudf cuml\n",
        "\n",
        "# set environment vars\n",
        "import sys, os, shutil\n",
        "sys.path.append('/usr/local/lib/python3.6/site-packages/')\n",
        "os.environ['NUMBAPRO_NVVM'] = '/usr/local/cuda/nvvm/lib64/libnvvm.so'\n",
        "os.environ['NUMBAPRO_LIBDEVICE'] = '/usr/local/cuda/nvvm/libdevice/'\n",
        "\n",
        "# copy .so files to current working dir\n",
        "for fn in ['libcudf.so', 'librmm.so']:\n",
        "  shutil.copy('/usr/local/lib/'+fn, os.getcwd())\n",
        "\n",
        "#https://medium.com/rapids-ai/accelerating-random-forests-up-to-45x-using-cuml-dfb782a31bea\n",
        "from cuml import RandomForestClassifier as cuRF     \n",
        "\n",
        "# cuml Random Forest params   \n",
        "cu_rf_params = (n_estimators == 25, max_depth == 13, n_bins == 15, n_streams == 8)             \n",
        "cu_rf = cuRF(**cu_rf_params)     \n",
        "cu_rf.fit(X_train, y_train)      \n",
        "                                                                       \n",
        "print(\"cuml RF Accuracy Score: \", accuracy_score(cu_rf.predict(X_test), y_test))\n"
      ],
      "metadata": {
        "colab": {
          "base_uri": "https://localhost:8080/",
          "height": 1000
        },
        "id": "-wWwTVxaghml",
        "outputId": "2962eb17-53e7-4b65-c396-9be2955d2509"
      },
      "execution_count": 10,
      "outputs": [
        {
          "output_type": "stream",
          "name": "stdout",
          "text": [
            "--2023-01-17 17:46:46--  https://repo.continuum.io/miniconda/Miniconda3-4.5.4-Linux-x86_64.sh\n",
            "Resolving repo.continuum.io (repo.continuum.io)... 104.18.200.79, 104.18.201.79, 2606:4700::6812:c84f, ...\n",
            "Connecting to repo.continuum.io (repo.continuum.io)|104.18.200.79|:443... connected.\n",
            "HTTP request sent, awaiting response... 301 Moved Permanently\n",
            "Location: https://repo.anaconda.com/miniconda/Miniconda3-4.5.4-Linux-x86_64.sh [following]\n",
            "--2023-01-17 17:46:46--  https://repo.anaconda.com/miniconda/Miniconda3-4.5.4-Linux-x86_64.sh\n",
            "Resolving repo.anaconda.com (repo.anaconda.com)... 104.16.131.3, 104.16.130.3, 2606:4700::6810:8303, ...\n",
            "Connecting to repo.anaconda.com (repo.anaconda.com)|104.16.131.3|:443... connected.\n",
            "HTTP request sent, awaiting response... 200 OK\n",
            "Length: 58468498 (56M) [application/x-sh]\n",
            "Saving to: ‘Miniconda3-4.5.4-Linux-x86_64.sh’\n",
            "\n",
            "Miniconda3-4.5.4-Li 100%[===================>]  55.76M  95.0MB/s    in 0.6s    \n",
            "\n",
            "2023-01-17 17:46:47 (95.0 MB/s) - ‘Miniconda3-4.5.4-Linux-x86_64.sh’ saved [58468498/58468498]\n",
            "\n",
            "PREFIX=/usr/local\n",
            "installing: python-3.6.5-hc3d631a_2 ...\n",
            "Python 3.6.5 :: Anaconda, Inc.\n",
            "installing: ca-certificates-2018.03.07-0 ...\n",
            "installing: conda-env-2.6.0-h36134e3_1 ...\n",
            "installing: libgcc-ng-7.2.0-hdf63c60_3 ...\n",
            "installing: libstdcxx-ng-7.2.0-hdf63c60_3 ...\n",
            "installing: libffi-3.2.1-hd88cf55_4 ...\n",
            "installing: ncurses-6.1-hf484d3e_0 ...\n",
            "installing: openssl-1.0.2o-h20670df_0 ...\n",
            "installing: tk-8.6.7-hc745277_3 ...\n",
            "installing: xz-5.2.4-h14c3975_4 ...\n",
            "installing: yaml-0.1.7-had09818_2 ...\n",
            "installing: zlib-1.2.11-ha838bed_2 ...\n",
            "installing: libedit-3.1.20170329-h6b74fdf_2 ...\n",
            "installing: readline-7.0-ha6073c6_4 ...\n",
            "installing: sqlite-3.23.1-he433501_0 ...\n",
            "installing: asn1crypto-0.24.0-py36_0 ...\n",
            "installing: certifi-2018.4.16-py36_0 ...\n",
            "installing: chardet-3.0.4-py36h0f667ec_1 ...\n",
            "installing: idna-2.6-py36h82fb2a8_1 ...\n",
            "installing: pycosat-0.6.3-py36h0a5515d_0 ...\n",
            "installing: pycparser-2.18-py36hf9f622e_1 ...\n",
            "installing: pysocks-1.6.8-py36_0 ...\n",
            "installing: ruamel_yaml-0.15.37-py36h14c3975_2 ...\n",
            "installing: six-1.11.0-py36h372c433_1 ...\n",
            "installing: cffi-1.11.5-py36h9745a5d_0 ...\n",
            "installing: setuptools-39.2.0-py36_0 ...\n",
            "installing: cryptography-2.2.2-py36h14c3975_0 ...\n",
            "installing: wheel-0.31.1-py36_0 ...\n",
            "installing: pip-10.0.1-py36_0 ...\n",
            "installing: pyopenssl-18.0.0-py36_0 ...\n",
            "installing: urllib3-1.22-py36hbe7ace6_0 ...\n",
            "installing: requests-2.18.4-py36he2e5f8d_1 ...\n",
            "installing: conda-4.5.4-py36_0 ...\n",
            "installation finished.\n",
            "WARNING:\n",
            "    You currently have a PYTHONPATH environment variable set. This may cause\n",
            "    unexpected behavior when running the Python interpreter in Miniconda3.\n",
            "    For best results, please verify that your PYTHONPATH only points to\n",
            "    directories of packages that are compatible with the Python interpreter\n",
            "    in Miniconda3: /usr/local\n",
            "Solving environment: ...working... failed\n",
            "\n",
            "PackagesNotFoundError: The following packages are not available from current channels:\n",
            "\n",
            "  - cuml\n",
            "  - cudf\n",
            "\n",
            "Current channels:\n",
            "\n",
            "  - https://conda.anaconda.org/conda-forge/linux-64\n",
            "  - https://conda.anaconda.org/conda-forge/noarch\n",
            "  - https://conda.anaconda.org/rapidsai-nightly/label/cuda10.0/linux-64\n",
            "  - https://conda.anaconda.org/rapidsai-nightly/label/cuda10.0/noarch\n",
            "  - https://conda.anaconda.org/nvidia/label/cuda10.0/linux-64\n",
            "  - https://conda.anaconda.org/nvidia/label/cuda10.0/noarch\n",
            "  - https://repo.anaconda.com/pkgs/main/linux-64\n",
            "  - https://repo.anaconda.com/pkgs/main/noarch\n",
            "  - https://repo.anaconda.com/pkgs/free/linux-64\n",
            "  - https://repo.anaconda.com/pkgs/free/noarch\n",
            "  - https://repo.anaconda.com/pkgs/r/linux-64\n",
            "  - https://repo.anaconda.com/pkgs/r/noarch\n",
            "  - https://repo.anaconda.com/pkgs/pro/linux-64\n",
            "  - https://repo.anaconda.com/pkgs/pro/noarch\n",
            "\n",
            "To search for alternate channels that may provide the conda package you're\n",
            "looking for, navigate to\n",
            "\n",
            "    https://anaconda.org\n",
            "\n",
            "and use the search bar at the top of the page.\n",
            "\n",
            "\n"
          ]
        },
        {
          "output_type": "error",
          "ename": "FileNotFoundError",
          "evalue": "ignored",
          "traceback": [
            "\u001b[0;31m---------------------------------------------------------------------------\u001b[0m",
            "\u001b[0;31mFileNotFoundError\u001b[0m                         Traceback (most recent call last)",
            "\u001b[0;32m<ipython-input-10-d5bbc2d9260d>\u001b[0m in \u001b[0;36m<module>\u001b[0;34m\u001b[0m\n\u001b[1;32m     16\u001b[0m \u001b[0;31m# copy .so files to current working dir\u001b[0m\u001b[0;34m\u001b[0m\u001b[0;34m\u001b[0m\u001b[0;34m\u001b[0m\u001b[0m\n\u001b[1;32m     17\u001b[0m \u001b[0;32mfor\u001b[0m \u001b[0mfn\u001b[0m \u001b[0;32min\u001b[0m \u001b[0;34m[\u001b[0m\u001b[0;34m'libcudf.so'\u001b[0m\u001b[0;34m,\u001b[0m \u001b[0;34m'librmm.so'\u001b[0m\u001b[0;34m]\u001b[0m\u001b[0;34m:\u001b[0m\u001b[0;34m\u001b[0m\u001b[0;34m\u001b[0m\u001b[0m\n\u001b[0;32m---> 18\u001b[0;31m   \u001b[0mshutil\u001b[0m\u001b[0;34m.\u001b[0m\u001b[0mcopy\u001b[0m\u001b[0;34m(\u001b[0m\u001b[0;34m'/usr/local/lib/'\u001b[0m\u001b[0;34m+\u001b[0m\u001b[0mfn\u001b[0m\u001b[0;34m,\u001b[0m \u001b[0mos\u001b[0m\u001b[0;34m.\u001b[0m\u001b[0mgetcwd\u001b[0m\u001b[0;34m(\u001b[0m\u001b[0;34m)\u001b[0m\u001b[0;34m)\u001b[0m\u001b[0;34m\u001b[0m\u001b[0;34m\u001b[0m\u001b[0m\n\u001b[0m\u001b[1;32m     19\u001b[0m \u001b[0;34m\u001b[0m\u001b[0m\n\u001b[1;32m     20\u001b[0m \u001b[0;31m#https://medium.com/rapids-ai/accelerating-random-forests-up-to-45x-using-cuml-dfb782a31bea\u001b[0m\u001b[0;34m\u001b[0m\u001b[0;34m\u001b[0m\u001b[0;34m\u001b[0m\u001b[0m\n",
            "\u001b[0;32m/usr/lib/python3.8/shutil.py\u001b[0m in \u001b[0;36mcopy\u001b[0;34m(src, dst, follow_symlinks)\u001b[0m\n\u001b[1;32m    416\u001b[0m     \u001b[0;32mif\u001b[0m \u001b[0mos\u001b[0m\u001b[0;34m.\u001b[0m\u001b[0mpath\u001b[0m\u001b[0;34m.\u001b[0m\u001b[0misdir\u001b[0m\u001b[0;34m(\u001b[0m\u001b[0mdst\u001b[0m\u001b[0;34m)\u001b[0m\u001b[0;34m:\u001b[0m\u001b[0;34m\u001b[0m\u001b[0;34m\u001b[0m\u001b[0m\n\u001b[1;32m    417\u001b[0m         \u001b[0mdst\u001b[0m \u001b[0;34m=\u001b[0m \u001b[0mos\u001b[0m\u001b[0;34m.\u001b[0m\u001b[0mpath\u001b[0m\u001b[0;34m.\u001b[0m\u001b[0mjoin\u001b[0m\u001b[0;34m(\u001b[0m\u001b[0mdst\u001b[0m\u001b[0;34m,\u001b[0m \u001b[0mos\u001b[0m\u001b[0;34m.\u001b[0m\u001b[0mpath\u001b[0m\u001b[0;34m.\u001b[0m\u001b[0mbasename\u001b[0m\u001b[0;34m(\u001b[0m\u001b[0msrc\u001b[0m\u001b[0;34m)\u001b[0m\u001b[0;34m)\u001b[0m\u001b[0;34m\u001b[0m\u001b[0;34m\u001b[0m\u001b[0m\n\u001b[0;32m--> 418\u001b[0;31m     \u001b[0mcopyfile\u001b[0m\u001b[0;34m(\u001b[0m\u001b[0msrc\u001b[0m\u001b[0;34m,\u001b[0m \u001b[0mdst\u001b[0m\u001b[0;34m,\u001b[0m \u001b[0mfollow_symlinks\u001b[0m\u001b[0;34m=\u001b[0m\u001b[0mfollow_symlinks\u001b[0m\u001b[0;34m)\u001b[0m\u001b[0;34m\u001b[0m\u001b[0;34m\u001b[0m\u001b[0m\n\u001b[0m\u001b[1;32m    419\u001b[0m     \u001b[0mcopymode\u001b[0m\u001b[0;34m(\u001b[0m\u001b[0msrc\u001b[0m\u001b[0;34m,\u001b[0m \u001b[0mdst\u001b[0m\u001b[0;34m,\u001b[0m \u001b[0mfollow_symlinks\u001b[0m\u001b[0;34m=\u001b[0m\u001b[0mfollow_symlinks\u001b[0m\u001b[0;34m)\u001b[0m\u001b[0;34m\u001b[0m\u001b[0;34m\u001b[0m\u001b[0m\n\u001b[1;32m    420\u001b[0m     \u001b[0;32mreturn\u001b[0m \u001b[0mdst\u001b[0m\u001b[0;34m\u001b[0m\u001b[0;34m\u001b[0m\u001b[0m\n",
            "\u001b[0;32m/usr/lib/python3.8/shutil.py\u001b[0m in \u001b[0;36mcopyfile\u001b[0;34m(src, dst, follow_symlinks)\u001b[0m\n\u001b[1;32m    262\u001b[0m         \u001b[0mos\u001b[0m\u001b[0;34m.\u001b[0m\u001b[0msymlink\u001b[0m\u001b[0;34m(\u001b[0m\u001b[0mos\u001b[0m\u001b[0;34m.\u001b[0m\u001b[0mreadlink\u001b[0m\u001b[0;34m(\u001b[0m\u001b[0msrc\u001b[0m\u001b[0;34m)\u001b[0m\u001b[0;34m,\u001b[0m \u001b[0mdst\u001b[0m\u001b[0;34m)\u001b[0m\u001b[0;34m\u001b[0m\u001b[0;34m\u001b[0m\u001b[0m\n\u001b[1;32m    263\u001b[0m     \u001b[0;32melse\u001b[0m\u001b[0;34m:\u001b[0m\u001b[0;34m\u001b[0m\u001b[0;34m\u001b[0m\u001b[0m\n\u001b[0;32m--> 264\u001b[0;31m         \u001b[0;32mwith\u001b[0m \u001b[0mopen\u001b[0m\u001b[0;34m(\u001b[0m\u001b[0msrc\u001b[0m\u001b[0;34m,\u001b[0m \u001b[0;34m'rb'\u001b[0m\u001b[0;34m)\u001b[0m \u001b[0;32mas\u001b[0m \u001b[0mfsrc\u001b[0m\u001b[0;34m,\u001b[0m \u001b[0mopen\u001b[0m\u001b[0;34m(\u001b[0m\u001b[0mdst\u001b[0m\u001b[0;34m,\u001b[0m \u001b[0;34m'wb'\u001b[0m\u001b[0;34m)\u001b[0m \u001b[0;32mas\u001b[0m \u001b[0mfdst\u001b[0m\u001b[0;34m:\u001b[0m\u001b[0;34m\u001b[0m\u001b[0;34m\u001b[0m\u001b[0m\n\u001b[0m\u001b[1;32m    265\u001b[0m             \u001b[0;31m# macOS\u001b[0m\u001b[0;34m\u001b[0m\u001b[0;34m\u001b[0m\u001b[0;34m\u001b[0m\u001b[0m\n\u001b[1;32m    266\u001b[0m             \u001b[0;32mif\u001b[0m \u001b[0m_HAS_FCOPYFILE\u001b[0m\u001b[0;34m:\u001b[0m\u001b[0;34m\u001b[0m\u001b[0;34m\u001b[0m\u001b[0m\n",
            "\u001b[0;31mFileNotFoundError\u001b[0m: [Errno 2] No such file or directory: '/usr/local/lib/libcudf.so'"
          ]
        }
      ]
    },
    {
      "cell_type": "code",
      "source": [
        "# Number of trees in random forest\n",
        "n_estimators = [int(x) for x in np.linspace(start = 100, stop = 300, num = 5)]\n",
        "\n",
        "# Number of features to consider at every split\n",
        "max_features = ['auto', 'sqrt']\n",
        "\n",
        "# Maximum number of levels in tree\n",
        "max_depth = [int(x) for x in np.linspace(5,55, num = 11)]\n",
        "max_depth.append(None)\n",
        "\n",
        "# Minimum number of samples required to split a node\n",
        "min_samples_split = [5, 10, 15, 25]\n",
        "\n",
        "# Minimum number of samples required at each leaf node\n",
        "min_samples_leaf = [4, 8, 12,16]\n",
        "\n",
        "# Method of selecting samples for training each tree\n",
        "bootstrap = [True, False]\n",
        "\n",
        "# Create the random grid\n",
        "random_grid = {'n_estimators': n_estimators,\n",
        "               'max_features': max_features,\n",
        "               'max_depth': max_depth,\n",
        "               'min_samples_split': min_samples_split,\n",
        "               'min_samples_leaf': min_samples_leaf,\n",
        "               'bootstrap': bootstrap}"
      ],
      "metadata": {
        "id": "yWub7ZnQNDSY"
      },
      "execution_count": 11,
      "outputs": []
    },
    {
      "cell_type": "code",
      "source": [
        "print(random_grid)"
      ],
      "metadata": {
        "colab": {
          "base_uri": "https://localhost:8080/"
        },
        "id": "Iaz5X0QONQA_",
        "outputId": "95455e99-e24d-4ecf-bbfb-f68375b01d77"
      },
      "execution_count": 12,
      "outputs": [
        {
          "output_type": "stream",
          "name": "stdout",
          "text": [
            "{'n_estimators': [100, 150, 200, 250, 300], 'max_features': ['auto', 'sqrt'], 'max_depth': [5, 10, 15, 20, 25, 30, 35, 40, 45, 50, 55, None], 'min_samples_split': [5, 10, 15, 25], 'min_samples_leaf': [4, 8, 12, 16], 'bootstrap': [True, False]}\n"
          ]
        }
      ]
    },
    {
      "cell_type": "code",
      "source": [
        "###DID NOT FINISH RUNNING, TOBEFIXED###\n",
        "reg0 = RandomForestRegressor(random_state=0)\n",
        "#perform cross validation\n",
        "rf_random0 = RandomizedSearchCV(estimator = reg0, \n",
        "                                param_distributions = random_grid, \n",
        "                                n_iter = 5, \n",
        "                                cv = 3, \n",
        "                                verbose=2, \n",
        "                                n_jobs = -1)\n",
        "\n",
        "rf_tas = rf_random0.fit(X_train,y_train)\n",
        "\n",
        "#was running for a very long time, did not run \n",
        "\n",
        "print(\"The best hyperparameters: \\n\",rf_tas.best_params_)"
      ],
      "metadata": {
        "colab": {
          "base_uri": "https://localhost:8080/",
          "height": 407
        },
        "id": "Nw3ojhUuNRo1",
        "outputId": "0ec59a81-69a1-4968-a38d-9e5cda898859"
      },
      "execution_count": 13,
      "outputs": [
        {
          "output_type": "stream",
          "name": "stdout",
          "text": [
            "Fitting 3 folds for each of 5 candidates, totalling 15 fits\n"
          ]
        },
        {
          "output_type": "error",
          "ename": "KeyboardInterrupt",
          "evalue": "ignored",
          "traceback": [
            "\u001b[0;31m---------------------------------------------------------------------------\u001b[0m",
            "\u001b[0;31mKeyboardInterrupt\u001b[0m                         Traceback (most recent call last)",
            "\u001b[0;32m<ipython-input-13-8428d16d75ca>\u001b[0m in \u001b[0;36m<module>\u001b[0;34m\u001b[0m\n\u001b[1;32m      3\u001b[0m rf_random0 = RandomizedSearchCV(estimator = reg0, param_distributions = random_grid, \n\u001b[1;32m      4\u001b[0m                                 n_iter = 5, cv = 3, verbose=2, n_jobs = -1)\n\u001b[0;32m----> 5\u001b[0;31m \u001b[0mrf_tas\u001b[0m \u001b[0;34m=\u001b[0m \u001b[0mrf_random0\u001b[0m\u001b[0;34m.\u001b[0m\u001b[0mfit\u001b[0m\u001b[0;34m(\u001b[0m\u001b[0mX_train\u001b[0m\u001b[0;34m,\u001b[0m\u001b[0my_train\u001b[0m\u001b[0;34m)\u001b[0m\u001b[0;34m\u001b[0m\u001b[0;34m\u001b[0m\u001b[0m\n\u001b[0m\u001b[1;32m      6\u001b[0m \u001b[0;34m\u001b[0m\u001b[0m\n\u001b[1;32m      7\u001b[0m \u001b[0;31m#was running for a very long time, did not run\u001b[0m\u001b[0;34m\u001b[0m\u001b[0;34m\u001b[0m\u001b[0;34m\u001b[0m\u001b[0m\n",
            "\u001b[0;32m/usr/local/lib/python3.8/dist-packages/sklearn/model_selection/_search.py\u001b[0m in \u001b[0;36mfit\u001b[0;34m(self, X, y, groups, **fit_params)\u001b[0m\n\u001b[1;32m    889\u001b[0m                 \u001b[0;32mreturn\u001b[0m \u001b[0mresults\u001b[0m\u001b[0;34m\u001b[0m\u001b[0;34m\u001b[0m\u001b[0m\n\u001b[1;32m    890\u001b[0m \u001b[0;34m\u001b[0m\u001b[0m\n\u001b[0;32m--> 891\u001b[0;31m             \u001b[0mself\u001b[0m\u001b[0;34m.\u001b[0m\u001b[0m_run_search\u001b[0m\u001b[0;34m(\u001b[0m\u001b[0mevaluate_candidates\u001b[0m\u001b[0;34m)\u001b[0m\u001b[0;34m\u001b[0m\u001b[0;34m\u001b[0m\u001b[0m\n\u001b[0m\u001b[1;32m    892\u001b[0m \u001b[0;34m\u001b[0m\u001b[0m\n\u001b[1;32m    893\u001b[0m             \u001b[0;31m# multimetric is determined here because in the case of a callable\u001b[0m\u001b[0;34m\u001b[0m\u001b[0;34m\u001b[0m\u001b[0;34m\u001b[0m\u001b[0m\n",
            "\u001b[0;32m/usr/local/lib/python3.8/dist-packages/sklearn/model_selection/_search.py\u001b[0m in \u001b[0;36m_run_search\u001b[0;34m(self, evaluate_candidates)\u001b[0m\n\u001b[1;32m   1764\u001b[0m     \u001b[0;32mdef\u001b[0m \u001b[0m_run_search\u001b[0m\u001b[0;34m(\u001b[0m\u001b[0mself\u001b[0m\u001b[0;34m,\u001b[0m \u001b[0mevaluate_candidates\u001b[0m\u001b[0;34m)\u001b[0m\u001b[0;34m:\u001b[0m\u001b[0;34m\u001b[0m\u001b[0;34m\u001b[0m\u001b[0m\n\u001b[1;32m   1765\u001b[0m         \u001b[0;34m\"\"\"Search n_iter candidates from param_distributions\"\"\"\u001b[0m\u001b[0;34m\u001b[0m\u001b[0;34m\u001b[0m\u001b[0m\n\u001b[0;32m-> 1766\u001b[0;31m         evaluate_candidates(\n\u001b[0m\u001b[1;32m   1767\u001b[0m             ParameterSampler(\n\u001b[1;32m   1768\u001b[0m                 \u001b[0mself\u001b[0m\u001b[0;34m.\u001b[0m\u001b[0mparam_distributions\u001b[0m\u001b[0;34m,\u001b[0m \u001b[0mself\u001b[0m\u001b[0;34m.\u001b[0m\u001b[0mn_iter\u001b[0m\u001b[0;34m,\u001b[0m \u001b[0mrandom_state\u001b[0m\u001b[0;34m=\u001b[0m\u001b[0mself\u001b[0m\u001b[0;34m.\u001b[0m\u001b[0mrandom_state\u001b[0m\u001b[0;34m\u001b[0m\u001b[0;34m\u001b[0m\u001b[0m\n",
            "\u001b[0;32m/usr/local/lib/python3.8/dist-packages/sklearn/model_selection/_search.py\u001b[0m in \u001b[0;36mevaluate_candidates\u001b[0;34m(candidate_params, cv, more_results)\u001b[0m\n\u001b[1;32m    836\u001b[0m                     )\n\u001b[1;32m    837\u001b[0m \u001b[0;34m\u001b[0m\u001b[0m\n\u001b[0;32m--> 838\u001b[0;31m                 out = parallel(\n\u001b[0m\u001b[1;32m    839\u001b[0m                     delayed(_fit_and_score)(\n\u001b[1;32m    840\u001b[0m                         \u001b[0mclone\u001b[0m\u001b[0;34m(\u001b[0m\u001b[0mbase_estimator\u001b[0m\u001b[0;34m)\u001b[0m\u001b[0;34m,\u001b[0m\u001b[0;34m\u001b[0m\u001b[0;34m\u001b[0m\u001b[0m\n",
            "\u001b[0;32m/usr/local/lib/python3.8/dist-packages/joblib/parallel.py\u001b[0m in \u001b[0;36m__call__\u001b[0;34m(self, iterable)\u001b[0m\n\u001b[1;32m   1096\u001b[0m \u001b[0;34m\u001b[0m\u001b[0m\n\u001b[1;32m   1097\u001b[0m             \u001b[0;32mwith\u001b[0m \u001b[0mself\u001b[0m\u001b[0;34m.\u001b[0m\u001b[0m_backend\u001b[0m\u001b[0;34m.\u001b[0m\u001b[0mretrieval_context\u001b[0m\u001b[0;34m(\u001b[0m\u001b[0;34m)\u001b[0m\u001b[0;34m:\u001b[0m\u001b[0;34m\u001b[0m\u001b[0;34m\u001b[0m\u001b[0m\n\u001b[0;32m-> 1098\u001b[0;31m                 \u001b[0mself\u001b[0m\u001b[0;34m.\u001b[0m\u001b[0mretrieve\u001b[0m\u001b[0;34m(\u001b[0m\u001b[0;34m)\u001b[0m\u001b[0;34m\u001b[0m\u001b[0;34m\u001b[0m\u001b[0m\n\u001b[0m\u001b[1;32m   1099\u001b[0m             \u001b[0;31m# Make sure that we get a last message telling us we are done\u001b[0m\u001b[0;34m\u001b[0m\u001b[0;34m\u001b[0m\u001b[0;34m\u001b[0m\u001b[0m\n\u001b[1;32m   1100\u001b[0m             \u001b[0melapsed_time\u001b[0m \u001b[0;34m=\u001b[0m \u001b[0mtime\u001b[0m\u001b[0;34m.\u001b[0m\u001b[0mtime\u001b[0m\u001b[0;34m(\u001b[0m\u001b[0;34m)\u001b[0m \u001b[0;34m-\u001b[0m \u001b[0mself\u001b[0m\u001b[0;34m.\u001b[0m\u001b[0m_start_time\u001b[0m\u001b[0;34m\u001b[0m\u001b[0;34m\u001b[0m\u001b[0m\n",
            "\u001b[0;32m/usr/local/lib/python3.8/dist-packages/joblib/parallel.py\u001b[0m in \u001b[0;36mretrieve\u001b[0;34m(self)\u001b[0m\n\u001b[1;32m    973\u001b[0m             \u001b[0;32mtry\u001b[0m\u001b[0;34m:\u001b[0m\u001b[0;34m\u001b[0m\u001b[0;34m\u001b[0m\u001b[0m\n\u001b[1;32m    974\u001b[0m                 \u001b[0;32mif\u001b[0m \u001b[0mgetattr\u001b[0m\u001b[0;34m(\u001b[0m\u001b[0mself\u001b[0m\u001b[0;34m.\u001b[0m\u001b[0m_backend\u001b[0m\u001b[0;34m,\u001b[0m \u001b[0;34m'supports_timeout'\u001b[0m\u001b[0;34m,\u001b[0m \u001b[0;32mFalse\u001b[0m\u001b[0;34m)\u001b[0m\u001b[0;34m:\u001b[0m\u001b[0;34m\u001b[0m\u001b[0;34m\u001b[0m\u001b[0m\n\u001b[0;32m--> 975\u001b[0;31m                     \u001b[0mself\u001b[0m\u001b[0;34m.\u001b[0m\u001b[0m_output\u001b[0m\u001b[0;34m.\u001b[0m\u001b[0mextend\u001b[0m\u001b[0;34m(\u001b[0m\u001b[0mjob\u001b[0m\u001b[0;34m.\u001b[0m\u001b[0mget\u001b[0m\u001b[0;34m(\u001b[0m\u001b[0mtimeout\u001b[0m\u001b[0;34m=\u001b[0m\u001b[0mself\u001b[0m\u001b[0;34m.\u001b[0m\u001b[0mtimeout\u001b[0m\u001b[0;34m)\u001b[0m\u001b[0;34m)\u001b[0m\u001b[0;34m\u001b[0m\u001b[0;34m\u001b[0m\u001b[0m\n\u001b[0m\u001b[1;32m    976\u001b[0m                 \u001b[0;32melse\u001b[0m\u001b[0;34m:\u001b[0m\u001b[0;34m\u001b[0m\u001b[0;34m\u001b[0m\u001b[0m\n\u001b[1;32m    977\u001b[0m                     \u001b[0mself\u001b[0m\u001b[0;34m.\u001b[0m\u001b[0m_output\u001b[0m\u001b[0;34m.\u001b[0m\u001b[0mextend\u001b[0m\u001b[0;34m(\u001b[0m\u001b[0mjob\u001b[0m\u001b[0;34m.\u001b[0m\u001b[0mget\u001b[0m\u001b[0;34m(\u001b[0m\u001b[0;34m)\u001b[0m\u001b[0;34m)\u001b[0m\u001b[0;34m\u001b[0m\u001b[0;34m\u001b[0m\u001b[0m\n",
            "\u001b[0;32m/usr/local/lib/python3.8/dist-packages/joblib/_parallel_backends.py\u001b[0m in \u001b[0;36mwrap_future_result\u001b[0;34m(future, timeout)\u001b[0m\n\u001b[1;32m    565\u001b[0m         AsyncResults.get from multiprocessing.\"\"\"\n\u001b[1;32m    566\u001b[0m         \u001b[0;32mtry\u001b[0m\u001b[0;34m:\u001b[0m\u001b[0;34m\u001b[0m\u001b[0;34m\u001b[0m\u001b[0m\n\u001b[0;32m--> 567\u001b[0;31m             \u001b[0;32mreturn\u001b[0m \u001b[0mfuture\u001b[0m\u001b[0;34m.\u001b[0m\u001b[0mresult\u001b[0m\u001b[0;34m(\u001b[0m\u001b[0mtimeout\u001b[0m\u001b[0;34m=\u001b[0m\u001b[0mtimeout\u001b[0m\u001b[0;34m)\u001b[0m\u001b[0;34m\u001b[0m\u001b[0;34m\u001b[0m\u001b[0m\n\u001b[0m\u001b[1;32m    568\u001b[0m         \u001b[0;32mexcept\u001b[0m \u001b[0mCfTimeoutError\u001b[0m \u001b[0;32mas\u001b[0m \u001b[0me\u001b[0m\u001b[0;34m:\u001b[0m\u001b[0;34m\u001b[0m\u001b[0;34m\u001b[0m\u001b[0m\n\u001b[1;32m    569\u001b[0m             \u001b[0;32mraise\u001b[0m \u001b[0mTimeoutError\u001b[0m \u001b[0;32mfrom\u001b[0m \u001b[0me\u001b[0m\u001b[0;34m\u001b[0m\u001b[0;34m\u001b[0m\u001b[0m\n",
            "\u001b[0;32m/usr/lib/python3.8/concurrent/futures/_base.py\u001b[0m in \u001b[0;36mresult\u001b[0;34m(self, timeout)\u001b[0m\n\u001b[1;32m    437\u001b[0m                     \u001b[0;32mreturn\u001b[0m \u001b[0mself\u001b[0m\u001b[0;34m.\u001b[0m\u001b[0m__get_result\u001b[0m\u001b[0;34m(\u001b[0m\u001b[0;34m)\u001b[0m\u001b[0;34m\u001b[0m\u001b[0;34m\u001b[0m\u001b[0m\n\u001b[1;32m    438\u001b[0m \u001b[0;34m\u001b[0m\u001b[0m\n\u001b[0;32m--> 439\u001b[0;31m                 \u001b[0mself\u001b[0m\u001b[0;34m.\u001b[0m\u001b[0m_condition\u001b[0m\u001b[0;34m.\u001b[0m\u001b[0mwait\u001b[0m\u001b[0;34m(\u001b[0m\u001b[0mtimeout\u001b[0m\u001b[0;34m)\u001b[0m\u001b[0;34m\u001b[0m\u001b[0;34m\u001b[0m\u001b[0m\n\u001b[0m\u001b[1;32m    440\u001b[0m \u001b[0;34m\u001b[0m\u001b[0m\n\u001b[1;32m    441\u001b[0m                 \u001b[0;32mif\u001b[0m \u001b[0mself\u001b[0m\u001b[0;34m.\u001b[0m\u001b[0m_state\u001b[0m \u001b[0;32min\u001b[0m \u001b[0;34m[\u001b[0m\u001b[0mCANCELLED\u001b[0m\u001b[0;34m,\u001b[0m \u001b[0mCANCELLED_AND_NOTIFIED\u001b[0m\u001b[0;34m]\u001b[0m\u001b[0;34m:\u001b[0m\u001b[0;34m\u001b[0m\u001b[0;34m\u001b[0m\u001b[0m\n",
            "\u001b[0;32m/usr/lib/python3.8/threading.py\u001b[0m in \u001b[0;36mwait\u001b[0;34m(self, timeout)\u001b[0m\n\u001b[1;32m    300\u001b[0m         \u001b[0;32mtry\u001b[0m\u001b[0;34m:\u001b[0m    \u001b[0;31m# restore state no matter what (e.g., KeyboardInterrupt)\u001b[0m\u001b[0;34m\u001b[0m\u001b[0;34m\u001b[0m\u001b[0m\n\u001b[1;32m    301\u001b[0m             \u001b[0;32mif\u001b[0m \u001b[0mtimeout\u001b[0m \u001b[0;32mis\u001b[0m \u001b[0;32mNone\u001b[0m\u001b[0;34m:\u001b[0m\u001b[0;34m\u001b[0m\u001b[0;34m\u001b[0m\u001b[0m\n\u001b[0;32m--> 302\u001b[0;31m                 \u001b[0mwaiter\u001b[0m\u001b[0;34m.\u001b[0m\u001b[0macquire\u001b[0m\u001b[0;34m(\u001b[0m\u001b[0;34m)\u001b[0m\u001b[0;34m\u001b[0m\u001b[0;34m\u001b[0m\u001b[0m\n\u001b[0m\u001b[1;32m    303\u001b[0m                 \u001b[0mgotit\u001b[0m \u001b[0;34m=\u001b[0m \u001b[0;32mTrue\u001b[0m\u001b[0;34m\u001b[0m\u001b[0;34m\u001b[0m\u001b[0m\n\u001b[1;32m    304\u001b[0m             \u001b[0;32melse\u001b[0m\u001b[0;34m:\u001b[0m\u001b[0;34m\u001b[0m\u001b[0;34m\u001b[0m\u001b[0m\n",
            "\u001b[0;31mKeyboardInterrupt\u001b[0m: "
          ]
        }
      ]
    },
    {
      "cell_type": "code",
      "source": [
        "### CONTINUE FIX HERE ### \n",
        "print(X_test.shape)\n",
        "y_test_pre = rf_tas.predict(X_test)\n",
        "print(y_test_pre.shape)\n",
        "y_test_pre = y_test_pre.reshape(31002912, 155, 208)\n",
        "\n",
        "y_test_pre = xr.Dataset(coords={'time': X_test_xr.time.values, \n",
        "                               'latitude': X_test_xr.latitude.values, \n",
        "                               'longitude': X_test_xr.longitude.values},\n",
        "                        data_vars=dict(tas=(['time', 'latitude', 'longitude'], y_test_pre)))"
      ],
      "metadata": {
        "id": "wX5V6rcNNTPa",
        "colab": {
          "base_uri": "https://localhost:8080/",
          "height": 276
        },
        "outputId": "f4b11c35-917c-4aec-b8ed-a5874f3e2a96"
      },
      "execution_count": 14,
      "outputs": [
        {
          "output_type": "stream",
          "name": "stdout",
          "text": [
            "(5167152, 4)\n",
            "(5167152, 6)\n"
          ]
        },
        {
          "output_type": "error",
          "ename": "ValueError",
          "evalue": "ignored",
          "traceback": [
            "\u001b[0;31m---------------------------------------------------------------------------\u001b[0m",
            "\u001b[0;31mValueError\u001b[0m                                Traceback (most recent call last)",
            "\u001b[0;32m<ipython-input-14-bd0a342e1f95>\u001b[0m in \u001b[0;36m<module>\u001b[0;34m\u001b[0m\n\u001b[1;32m      2\u001b[0m \u001b[0my_test_pre\u001b[0m \u001b[0;34m=\u001b[0m \u001b[0mrf_tas\u001b[0m\u001b[0;34m.\u001b[0m\u001b[0mpredict\u001b[0m\u001b[0;34m(\u001b[0m\u001b[0mX_test\u001b[0m\u001b[0;34m)\u001b[0m\u001b[0;34m\u001b[0m\u001b[0;34m\u001b[0m\u001b[0m\n\u001b[1;32m      3\u001b[0m \u001b[0mprint\u001b[0m\u001b[0;34m(\u001b[0m\u001b[0my_test_pre\u001b[0m\u001b[0;34m.\u001b[0m\u001b[0mshape\u001b[0m\u001b[0;34m)\u001b[0m\u001b[0;34m\u001b[0m\u001b[0;34m\u001b[0m\u001b[0m\n\u001b[0;32m----> 4\u001b[0;31m \u001b[0my_test_pre\u001b[0m \u001b[0;34m=\u001b[0m \u001b[0my_test_pre\u001b[0m\u001b[0;34m.\u001b[0m\u001b[0mreshape\u001b[0m\u001b[0;34m(\u001b[0m\u001b[0;36m31002912\u001b[0m\u001b[0;34m,\u001b[0m \u001b[0;36m155\u001b[0m\u001b[0;34m,\u001b[0m \u001b[0;36m208\u001b[0m\u001b[0;34m)\u001b[0m\u001b[0;34m\u001b[0m\u001b[0;34m\u001b[0m\u001b[0m\n\u001b[0m\u001b[1;32m      5\u001b[0m \u001b[0;34m\u001b[0m\u001b[0m\n\u001b[1;32m      6\u001b[0m y_test_pre = xr.Dataset(coords={'time': X_test_xr.time.values, \n",
            "\u001b[0;31mValueError\u001b[0m: cannot reshape array of size 31002912 into shape (31002912,155,208)"
          ]
        }
      ]
    },
    {
      "cell_type": "code",
      "source": [
        "fig, axes = plt.subplots(figsize=(15,12),ncols=2,nrows=3)\n",
        "\n",
        "yrs = [2030, 2050, 2100]\n",
        "vmin, vmax    = -6, 6\n",
        "cmap = 'RdBu_r'\n",
        "y_test_pre.tas.sel(time=yrs[0]).plot(ax=axes[0,0], vmin=vmin, vmax=vmax,cmap=cmap)\n",
        "y_test_xr.tas.sel(time=yrs[0]).plot(ax=axes[0,1], vmin=vmin, vmax=vmax,cmap=cmap)\n",
        "\n",
        "y_test_pre.tas.sel(time=yrs[1]).plot(ax=axes[1,0], vmin=vmin, vmax=vmax,cmap=cmap)\n",
        "y_test_xr.tas.sel(time=yrs[1]).plot(ax=axes[1,1], vmin=vmin, vmax=vmax,cmap=cmap)\n",
        "\n",
        "y_test_pre.tas.sel(time=yrs[2]).plot(ax=axes[2,0], vmin=vmin, vmax=vmax,cmap=cmap)\n",
        "y_test_xr.tas.sel(time=yrs[2]).plot(ax=axes[2,1], vmin=vmin, vmax=vmax,cmap=cmap)\n",
        "\n",
        "\n",
        "for i, ax in enumerate(axes.flat):\n",
        "    # left column: model prediction\n",
        "    if i % 2 == 0:\n",
        "        ax.set_title(f'tas model prediction (year = {yrs[i//2]})',fontweight='bold')\n",
        "    # right column: truth tas from ssp245 simulations\n",
        "    else:\n",
        "        ax.set_title(f'tas truth (year = {yrs[i//2]})',fontweight='bold')\n",
        "plt.tight_layout()"
      ],
      "metadata": {
        "id": "ncXhCribPorA"
      },
      "execution_count": null,
      "outputs": []
    }
  ]
}